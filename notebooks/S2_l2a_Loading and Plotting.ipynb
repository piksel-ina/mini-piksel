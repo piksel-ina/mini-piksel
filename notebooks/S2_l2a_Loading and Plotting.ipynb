{
 "cells": [
  {
   "cell_type": "code",
   "execution_count": 1,
   "id": "505075bd-7673-4be1-8c17-1b0ddde62804",
   "metadata": {},
   "outputs": [],
   "source": [
    "# Import required packages\n",
    "import matplotlib.pyplot as plt\n",
    "import pandas as pd\n",
    "from datacube import Datacube\n",
    "from odc.ui import DcViewer\n",
    "from pprint import pprint\n",
    "from odc.geo import resxy_\n",
    "\n",
    "# Set some configurations for displaying tables nicely\n",
    "pd.set_option('display.max_colwidth', 200)\n",
    "pd.set_option('display.max_rows', None)"
   ]
  },
  {
   "cell_type": "code",
   "execution_count": 2,
   "id": "da134f3f-c32f-40dd-8d47-e46ee883459f",
   "metadata": {},
   "outputs": [],
   "source": [
    "# Connect to datacube\n",
    "dc = Datacube(app=\"Products_and_measurements\")"
   ]
  },
  {
   "cell_type": "markdown",
   "id": "a7ff53ab-88db-48b8-acc9-337136e34a52",
   "metadata": {},
   "source": [
    "## Product Discovery"
   ]
  },
  {
   "cell_type": "code",
   "execution_count": 3,
   "id": "14fe8015-c67a-49e1-be15-11357bc89a0c",
   "metadata": {},
   "outputs": [
    {
     "name": "stderr",
     "output_type": "stream",
     "text": [
      "/home/venv/lib/python3.12/site-packages/datacube/utils/py.py:62: ODC2DeprecationWarning: Call to deprecated function (or staticmethod) grid_spec. (The Grid Workflow is deprecated. This property may return an (optional) odc-geo GridSpec in future.)\n",
      "-- Deprecated since version 1.9.0.\n",
      "  value = obj.__dict__[self.func.__name__] = self.func(obj)\n"
     ]
    },
    {
     "data": {
      "text/html": [
       "<div>\n",
       "<style scoped>\n",
       "    .dataframe tbody tr th:only-of-type {\n",
       "        vertical-align: middle;\n",
       "    }\n",
       "\n",
       "    .dataframe tbody tr th {\n",
       "        vertical-align: top;\n",
       "    }\n",
       "\n",
       "    .dataframe thead th {\n",
       "        text-align: right;\n",
       "    }\n",
       "</style>\n",
       "<table border=\"1\" class=\"dataframe\">\n",
       "  <thead>\n",
       "    <tr style=\"text-align: right;\">\n",
       "      <th></th>\n",
       "      <th>name</th>\n",
       "      <th>description</th>\n",
       "      <th>license</th>\n",
       "      <th>default_crs</th>\n",
       "      <th>default_resolution</th>\n",
       "    </tr>\n",
       "    <tr>\n",
       "      <th>name</th>\n",
       "      <th></th>\n",
       "      <th></th>\n",
       "      <th></th>\n",
       "      <th></th>\n",
       "      <th></th>\n",
       "    </tr>\n",
       "  </thead>\n",
       "  <tbody>\n",
       "    <tr>\n",
       "      <th>sentinel_2_l2a</th>\n",
       "      <td>sentinel_2_l2a</td>\n",
       "      <td>Sentinel-2a and Sentinel-2b imagery, processed to Level 2A (Surface Reflectance) and converted to Cloud Optimized GeoTIFFs</td>\n",
       "      <td>None</td>\n",
       "      <td>None</td>\n",
       "      <td>None</td>\n",
       "    </tr>\n",
       "  </tbody>\n",
       "</table>\n",
       "</div>"
      ],
      "text/plain": [
       "                          name  \\\n",
       "name                             \n",
       "sentinel_2_l2a  sentinel_2_l2a   \n",
       "\n",
       "                                                                                                                               description  \\\n",
       "name                                                                                                                                         \n",
       "sentinel_2_l2a  Sentinel-2a and Sentinel-2b imagery, processed to Level 2A (Surface Reflectance) and converted to Cloud Optimized GeoTIFFs   \n",
       "\n",
       "               license default_crs default_resolution  \n",
       "name                                                   \n",
       "sentinel_2_l2a    None        None               None  "
      ]
     },
     "execution_count": 3,
     "metadata": {},
     "output_type": "execute_result"
    }
   ],
   "source": [
    "# List Products\n",
    "dc.list_products()"
   ]
  },
  {
   "cell_type": "code",
   "execution_count": 4,
   "id": "28627d9f-e51a-4ed8-b680-ea81f8036a41",
   "metadata": {},
   "outputs": [
    {
     "data": {
      "text/html": [
       "<div>\n",
       "<style scoped>\n",
       "    .dataframe tbody tr th:only-of-type {\n",
       "        vertical-align: middle;\n",
       "    }\n",
       "\n",
       "    .dataframe tbody tr th {\n",
       "        vertical-align: top;\n",
       "    }\n",
       "\n",
       "    .dataframe thead th {\n",
       "        text-align: right;\n",
       "    }\n",
       "</style>\n",
       "<table border=\"1\" class=\"dataframe\">\n",
       "  <thead>\n",
       "    <tr style=\"text-align: right;\">\n",
       "      <th></th>\n",
       "      <th></th>\n",
       "      <th>name</th>\n",
       "      <th>dtype</th>\n",
       "      <th>units</th>\n",
       "      <th>nodata</th>\n",
       "      <th>aliases</th>\n",
       "      <th>flags_definition</th>\n",
       "    </tr>\n",
       "    <tr>\n",
       "      <th>product</th>\n",
       "      <th>measurement</th>\n",
       "      <th></th>\n",
       "      <th></th>\n",
       "      <th></th>\n",
       "      <th></th>\n",
       "      <th></th>\n",
       "      <th></th>\n",
       "    </tr>\n",
       "  </thead>\n",
       "  <tbody>\n",
       "    <tr>\n",
       "      <th rowspan=\"15\" valign=\"top\">sentinel_2_l2a</th>\n",
       "      <th>coastal</th>\n",
       "      <td>coastal</td>\n",
       "      <td>uint16</td>\n",
       "      <td>1</td>\n",
       "      <td>0</td>\n",
       "      <td>[band_01, B01, coastal_aerosol]</td>\n",
       "      <td>NaN</td>\n",
       "    </tr>\n",
       "    <tr>\n",
       "      <th>blue</th>\n",
       "      <td>blue</td>\n",
       "      <td>uint16</td>\n",
       "      <td>1</td>\n",
       "      <td>0</td>\n",
       "      <td>[band_02, B02]</td>\n",
       "      <td>NaN</td>\n",
       "    </tr>\n",
       "    <tr>\n",
       "      <th>green</th>\n",
       "      <td>green</td>\n",
       "      <td>uint16</td>\n",
       "      <td>1</td>\n",
       "      <td>0</td>\n",
       "      <td>[band_03, B03, green]</td>\n",
       "      <td>NaN</td>\n",
       "    </tr>\n",
       "    <tr>\n",
       "      <th>red</th>\n",
       "      <td>red</td>\n",
       "      <td>uint16</td>\n",
       "      <td>1</td>\n",
       "      <td>0</td>\n",
       "      <td>[band_04, B04, red]</td>\n",
       "      <td>NaN</td>\n",
       "    </tr>\n",
       "    <tr>\n",
       "      <th>rededge1</th>\n",
       "      <td>rededge1</td>\n",
       "      <td>uint16</td>\n",
       "      <td>1</td>\n",
       "      <td>0</td>\n",
       "      <td>[band_05, B05, red_edge_1]</td>\n",
       "      <td>NaN</td>\n",
       "    </tr>\n",
       "    <tr>\n",
       "      <th>rededge2</th>\n",
       "      <td>rededge2</td>\n",
       "      <td>uint16</td>\n",
       "      <td>1</td>\n",
       "      <td>0</td>\n",
       "      <td>[band_06, B06, red_edge_2]</td>\n",
       "      <td>NaN</td>\n",
       "    </tr>\n",
       "    <tr>\n",
       "      <th>rededge3</th>\n",
       "      <td>rededge3</td>\n",
       "      <td>uint16</td>\n",
       "      <td>1</td>\n",
       "      <td>0</td>\n",
       "      <td>[band_07, B07, red_edge_3]</td>\n",
       "      <td>NaN</td>\n",
       "    </tr>\n",
       "    <tr>\n",
       "      <th>nir</th>\n",
       "      <td>nir</td>\n",
       "      <td>uint16</td>\n",
       "      <td>1</td>\n",
       "      <td>0</td>\n",
       "      <td>[band_08, B08, nir, nir_1]</td>\n",
       "      <td>NaN</td>\n",
       "    </tr>\n",
       "    <tr>\n",
       "      <th>nir08</th>\n",
       "      <td>nir08</td>\n",
       "      <td>uint16</td>\n",
       "      <td>1</td>\n",
       "      <td>0</td>\n",
       "      <td>[band_8a, B8A, nir_narrow, nir_2]</td>\n",
       "      <td>NaN</td>\n",
       "    </tr>\n",
       "    <tr>\n",
       "      <th>nir09</th>\n",
       "      <td>nir09</td>\n",
       "      <td>uint16</td>\n",
       "      <td>1</td>\n",
       "      <td>0</td>\n",
       "      <td>[band_09, B09, water_vapour]</td>\n",
       "      <td>NaN</td>\n",
       "    </tr>\n",
       "    <tr>\n",
       "      <th>swir16</th>\n",
       "      <td>swir16</td>\n",
       "      <td>uint16</td>\n",
       "      <td>1</td>\n",
       "      <td>0</td>\n",
       "      <td>[band_11, B11, swir_1, swir_16]</td>\n",
       "      <td>NaN</td>\n",
       "    </tr>\n",
       "    <tr>\n",
       "      <th>swir22</th>\n",
       "      <td>swir22</td>\n",
       "      <td>uint16</td>\n",
       "      <td>1</td>\n",
       "      <td>0</td>\n",
       "      <td>[band_12, B12, swir_2, swir_22]</td>\n",
       "      <td>NaN</td>\n",
       "    </tr>\n",
       "    <tr>\n",
       "      <th>scl</th>\n",
       "      <td>scl</td>\n",
       "      <td>uint8</td>\n",
       "      <td>1</td>\n",
       "      <td>0</td>\n",
       "      <td>[mask, SCL, qa]</td>\n",
       "      <td>{'qa': {'bits': [0, 1, 2, 3, 4, 5, 6, 7], 'values': {'0': 'no data', '1': 'saturated or defective', '2': 'dark area pixels', '3': 'cloud shadows', '4': 'vegetation', '5': 'bare soils', '6': 'water...</td>\n",
       "    </tr>\n",
       "    <tr>\n",
       "      <th>aot</th>\n",
       "      <td>aot</td>\n",
       "      <td>uint16</td>\n",
       "      <td>1</td>\n",
       "      <td>0</td>\n",
       "      <td>[aerosol_optical_thickness, AOT]</td>\n",
       "      <td>NaN</td>\n",
       "    </tr>\n",
       "    <tr>\n",
       "      <th>wvp</th>\n",
       "      <td>wvp</td>\n",
       "      <td>uint16</td>\n",
       "      <td>1</td>\n",
       "      <td>0</td>\n",
       "      <td>[scene_average_water_vapour, WVP]</td>\n",
       "      <td>NaN</td>\n",
       "    </tr>\n",
       "  </tbody>\n",
       "</table>\n",
       "</div>"
      ],
      "text/plain": [
       "                                name   dtype units  nodata  \\\n",
       "product        measurement                                   \n",
       "sentinel_2_l2a coastal       coastal  uint16     1       0   \n",
       "               blue             blue  uint16     1       0   \n",
       "               green           green  uint16     1       0   \n",
       "               red               red  uint16     1       0   \n",
       "               rededge1     rededge1  uint16     1       0   \n",
       "               rededge2     rededge2  uint16     1       0   \n",
       "               rededge3     rededge3  uint16     1       0   \n",
       "               nir               nir  uint16     1       0   \n",
       "               nir08           nir08  uint16     1       0   \n",
       "               nir09           nir09  uint16     1       0   \n",
       "               swir16         swir16  uint16     1       0   \n",
       "               swir22         swir22  uint16     1       0   \n",
       "               scl               scl   uint8     1       0   \n",
       "               aot               aot  uint16     1       0   \n",
       "               wvp               wvp  uint16     1       0   \n",
       "\n",
       "                                                      aliases  \\\n",
       "product        measurement                                      \n",
       "sentinel_2_l2a coastal        [band_01, B01, coastal_aerosol]   \n",
       "               blue                            [band_02, B02]   \n",
       "               green                    [band_03, B03, green]   \n",
       "               red                        [band_04, B04, red]   \n",
       "               rededge1            [band_05, B05, red_edge_1]   \n",
       "               rededge2            [band_06, B06, red_edge_2]   \n",
       "               rededge3            [band_07, B07, red_edge_3]   \n",
       "               nir                 [band_08, B08, nir, nir_1]   \n",
       "               nir08        [band_8a, B8A, nir_narrow, nir_2]   \n",
       "               nir09             [band_09, B09, water_vapour]   \n",
       "               swir16         [band_11, B11, swir_1, swir_16]   \n",
       "               swir22         [band_12, B12, swir_2, swir_22]   \n",
       "               scl                            [mask, SCL, qa]   \n",
       "               aot           [aerosol_optical_thickness, AOT]   \n",
       "               wvp          [scene_average_water_vapour, WVP]   \n",
       "\n",
       "                                                                                                                                                                                                                   flags_definition  \n",
       "product        measurement                                                                                                                                                                                                           \n",
       "sentinel_2_l2a coastal                                                                                                                                                                                                          NaN  \n",
       "               blue                                                                                                                                                                                                             NaN  \n",
       "               green                                                                                                                                                                                                            NaN  \n",
       "               red                                                                                                                                                                                                              NaN  \n",
       "               rededge1                                                                                                                                                                                                         NaN  \n",
       "               rededge2                                                                                                                                                                                                         NaN  \n",
       "               rededge3                                                                                                                                                                                                         NaN  \n",
       "               nir                                                                                                                                                                                                              NaN  \n",
       "               nir08                                                                                                                                                                                                            NaN  \n",
       "               nir09                                                                                                                                                                                                            NaN  \n",
       "               swir16                                                                                                                                                                                                           NaN  \n",
       "               swir22                                                                                                                                                                                                           NaN  \n",
       "               scl          {'qa': {'bits': [0, 1, 2, 3, 4, 5, 6, 7], 'values': {'0': 'no data', '1': 'saturated or defective', '2': 'dark area pixels', '3': 'cloud shadows', '4': 'vegetation', '5': 'bare soils', '6': 'water...  \n",
       "               aot                                                                                                                                                                                                              NaN  \n",
       "               wvp                                                                                                                                                                                                              NaN  "
      ]
     },
     "execution_count": 4,
     "metadata": {},
     "output_type": "execute_result"
    }
   ],
   "source": [
    "# List measurements\n",
    "dc.list_measurements()"
   ]
  },
  {
   "cell_type": "markdown",
   "id": "5f436b4f-0092-4d19-a06b-2a502112589a",
   "metadata": {},
   "source": [
    "## Dataset Searching & Querying"
   ]
  },
  {
   "cell_type": "markdown",
   "id": "1c1b8573-1764-491c-83d4-183018ff8612",
   "metadata": {},
   "source": [
    "### Finding Dataset"
   ]
  },
  {
   "cell_type": "code",
   "execution_count": 5,
   "id": "ef5fb774-d895-4877-a09b-c50030d44e0a",
   "metadata": {},
   "outputs": [
    {
     "name": "stderr",
     "output_type": "stream",
     "text": [
      "Querying product Product(name='sentinel_2_l2a', id_=1)\n"
     ]
    },
    {
     "data": {
      "text/plain": [
       "[Dataset <id=87274776-b896-581d-a881-91a190e9fd99 product=sentinel_2_l2a location=https://earth-search.aws.element84.com/v1/collections/sentinel-2-l2a/items/S2A_50LKR_20200331_0_L2A>]"
      ]
     },
     "execution_count": 5,
     "metadata": {},
     "output_type": "execute_result"
    }
   ],
   "source": [
    "datasets = dc.find_datasets(product=\"sentinel_2_l2a\", limit=1)\n",
    "datasets"
   ]
  },
  {
   "cell_type": "markdown",
   "id": "c8a6a15b-f070-4b3a-b71f-06e82c7e93c8",
   "metadata": {},
   "source": [
    "We can also search for datasets within a specific spatial extent or time period. To do this, we supply a spatiotemporal query (i.e. a range of x- and y-coordinates defining the spatial area to load, and a range of times).\n",
    "\n",
    "`dc.find_datasets()` will then return a subset of datasets that match this query:"
   ]
  },
  {
   "cell_type": "code",
   "execution_count": 6,
   "id": "e57b7b29-4640-4a87-8b0a-78fbcae8c503",
   "metadata": {},
   "outputs": [
    {
     "name": "stderr",
     "output_type": "stream",
     "text": [
      "Querying product Product(name='sentinel_2_l2a', id_=1)\n"
     ]
    },
    {
     "data": {
      "text/plain": [
       "[Dataset <id=b38c4c54-cb1a-5cc6-947c-1cc00b738f42 product=sentinel_2_l2a location=https://earth-search.aws.element84.com/v1/collections/sentinel-2-l1c/items/S2A_50LKR_20200101_0_L1C>,\n",
       " Dataset <id=1f5118de-eebb-5f8e-8cb3-33d9b215dbcc product=sentinel_2_l2a location=https://earth-search.aws.element84.com/v1/collections/sentinel-2-l1c/items/S2A_49LHL_20200101_1_L1C>,\n",
       " Dataset <id=7e441e3d-5c46-5158-99f3-92e9bc3d07d8 product=sentinel_2_l2a location=https://earth-search.aws.element84.com/v1/collections/sentinel-2-l2a/items/S2A_50MKS_20200101_1_L2A>,\n",
       " Dataset <id=58050535-e749-5b52-a4c3-9702cd5a40cd product=sentinel_2_l2a location=https://earth-search.aws.element84.com/v1/collections/sentinel-1-grd/items/S1A_IW_GRDH_1SDV_20200102T220109_20200102T220134_030627_038262>,\n",
       " Dataset <id=351a9e46-20a5-58b2-91c8-7320302f8a6e product=sentinel_2_l2a location=https://earth-search.aws.element84.com/v1/collections/sentinel-1-grd/items/S1A_IW_GRDH_1SDV_20200102T220044_20200102T220109_030627_038262>,\n",
       " Dataset <id=500e8f12-fb32-59dc-8e2a-e537e70528a0 product=sentinel_2_l2a location=https://earth-search.aws.element84.com/v1/collections/sentinel-2-l1c/items/S2A_50LKR_20200101_1_L1C>,\n",
       " Dataset <id=46baf1fe-7110-58ba-9dac-87f898318bf2 product=sentinel_2_l2a location=https://earth-search.aws.element84.com/v1/collections/sentinel-2-l2a/items/S2A_50LKR_20200101_1_L2A>,\n",
       " Dataset <id=2a2bcb13-5aa4-5b4a-a4c8-a63782f9d439 product=sentinel_2_l2a location=https://earth-search.aws.element84.com/v1/collections/sentinel-2-l2a/items/S2A_49MHM_20200101_0_L2A>,\n",
       " Dataset <id=04231651-cdcd-5f7e-bd52-6cfeb9479191 product=sentinel_2_l2a location=https://earth-search.aws.element84.com/v1/collections/sentinel-2-l1c/items/S2A_50MLS_20200101_1_L1C>,\n",
       " Dataset <id=89c7a117-6f57-5d5a-9608-6c942b1c457c product=sentinel_2_l2a location=https://earth-search.aws.element84.com/v1/collections/sentinel-2-l1c/items/S2A_50MKT_20200101_1_L1C>,\n",
       " Dataset <id=a2ed11c1-ad44-58ef-b820-37fa2414fd8c product=sentinel_2_l2a location=https://earth-search.aws.element84.com/v1/collections/sentinel-1-grd/items/S1A_IW_GRDH_1SDV_20200102T220134_20200102T220202_030627_038262>,\n",
       " Dataset <id=9bb8606c-9b4c-5eb9-b62f-b256cc83a459 product=sentinel_2_l2a location=https://earth-search.aws.element84.com/v1/collections/sentinel-2-c1-l2a/items/S2A_T50LKR_20200101T024527_L2A>,\n",
       " Dataset <id=d2800846-1bec-549c-be5d-39d0155421ec product=sentinel_2_l2a location=https://earth-search.aws.element84.com/v1/collections/sentinel-2-c1-l2a/items/S2A_T50MKS_20200101T024527_L2A>,\n",
       " Dataset <id=52f06461-98b4-52dd-99c7-3bea1f5fb60e product=sentinel_2_l2a location=https://earth-search.aws.element84.com/v1/collections/sentinel-2-c1-l2a/items/S2A_T49MHN_20200101T024527_L2A>,\n",
       " Dataset <id=aea0e716-bb5f-55da-a764-c2ab753672ba product=sentinel_2_l2a location=https://earth-search.aws.element84.com/v1/collections/sentinel-2-l1c/items/S2A_50MLT_20200101_0_L1C>,\n",
       " Dataset <id=815e0877-67d0-5ae6-87ec-f2f8e0c513a8 product=sentinel_2_l2a location=https://earth-search.aws.element84.com/v1/collections/sentinel-2-c1-l2a/items/S2A_T49LHL_20200101T024527_L2A>,\n",
       " Dataset <id=62759dea-d8df-57d7-89e3-3ad893e96d04 product=sentinel_2_l2a location=https://earth-search.aws.element84.com/v1/collections/sentinel-2-l2a/items/S2A_49LHL_20200101_1_L2A>,\n",
       " Dataset <id=fb4272c2-6c8f-52fe-aa97-194ce1b345b3 product=sentinel_2_l2a location=https://earth-search.aws.element84.com/v1/collections/sentinel-2-l2a/items/S2A_50LKR_20200101_0_L2A>,\n",
       " Dataset <id=3ce63ecf-0b27-5550-8293-b69482fc8afd product=sentinel_2_l2a location=https://earth-search.aws.element84.com/v1/collections/sentinel-2-l1c/items/S2A_49LHL_20200101_0_L1C>,\n",
       " Dataset <id=6c9f52ea-fd5d-56be-be9e-24adbd890035 product=sentinel_2_l2a location=https://earth-search.aws.element84.com/v1/collections/sentinel-2-l2a/items/S2A_49MHM_20200101_1_L2A>,\n",
       " Dataset <id=46e758fa-8333-52ec-bae4-9240d09a0aee product=sentinel_2_l2a location=https://earth-search.aws.element84.com/v1/collections/sentinel-2-c1-l2a/items/S2A_T49MHM_20200101T024527_L2A>,\n",
       " Dataset <id=6d46be64-b18d-52cc-ade6-423e7a0533ca product=sentinel_2_l2a location=https://earth-search.aws.element84.com/v1/collections/sentinel-2-l2a/items/S2A_49LHL_20200101_0_L2A>,\n",
       " Dataset <id=84140e66-0dbe-5a4c-b5c1-b94bb496bad8 product=sentinel_2_l2a location=https://earth-search.aws.element84.com/v1/collections/sentinel-2-l1c/items/S2A_49MHM_20200101_1_L1C>,\n",
       " Dataset <id=9f28fce8-b46d-5c2f-973d-f5f7f0c1988a product=sentinel_2_l2a location=https://earth-search.aws.element84.com/v1/collections/sentinel-2-l1c/items/S2A_50MKS_20200101_0_L1C>,\n",
       " Dataset <id=26147809-229b-547f-afbe-e295d2e35758 product=sentinel_2_l2a location=https://earth-search.aws.element84.com/v1/collections/sentinel-2-l2a/items/S2A_50MKS_20200101_0_L2A>,\n",
       " Dataset <id=27fdd6bf-050c-5833-b66c-3bf962680ebd product=sentinel_2_l2a location=https://earth-search.aws.element84.com/v1/collections/sentinel-2-l1c/items/S2A_50MKS_20200101_1_L1C>,\n",
       " Dataset <id=5ecc7734-eac4-55c3-bc5b-4aa59299d916 product=sentinel_2_l2a location=https://earth-search.aws.element84.com/v1/collections/sentinel-2-l1c/items/S2A_50MLS_20200101_0_L1C>,\n",
       " Dataset <id=0226cd45-2ffb-5c30-b709-296e13478303 product=sentinel_2_l2a location=https://earth-search.aws.element84.com/v1/collections/sentinel-2-l2a/items/S2A_50MLS_20200101_0_L2A>,\n",
       " Dataset <id=3a3a2bc3-c3e2-57d1-86bd-b8d93731514b product=sentinel_2_l2a location=https://earth-search.aws.element84.com/v1/collections/sentinel-2-l1c/items/S2A_49MHM_20200101_0_L1C>,\n",
       " Dataset <id=b7ec8fd3-982e-5ca7-821f-bc25f5ac11cb product=sentinel_2_l2a location=https://earth-search.aws.element84.com/v1/collections/sentinel-2-c1-l2a/items/S2A_T50MLS_20200101T024527_L2A>,\n",
       " Dataset <id=6176452b-f919-5132-9aeb-2f2aee8b051a product=sentinel_2_l2a location=https://earth-search.aws.element84.com/v1/collections/sentinel-2-c1-l2a/items/S2A_T50MKT_20200101T024527_L2A>,\n",
       " Dataset <id=194f90cc-a209-5524-8b92-8df42451ebc8 product=sentinel_2_l2a location=https://earth-search.aws.element84.com/v1/collections/sentinel-2-l1c/items/S2A_49MHN_20200101_1_L1C>,\n",
       " Dataset <id=1909206c-d291-5512-9a1e-fe583c16a62e product=sentinel_2_l2a location=https://earth-search.aws.element84.com/v1/collections/sentinel-2-l2a/items/S2A_50MLS_20200101_1_L2A>,\n",
       " Dataset <id=19039e22-9aa3-5fcf-b1cc-eedba919b3c8 product=sentinel_2_l2a location=https://earth-search.aws.element84.com/v1/collections/sentinel-2-l2a/items/S2A_49MHN_20200101_0_L2A>,\n",
       " Dataset <id=d1a8d33b-82b9-5e94-bd0f-93f00e9b6bdf product=sentinel_2_l2a location=https://earth-search.aws.element84.com/v1/collections/sentinel-2-l2a/items/S2A_50MKT_20200101_1_L2A>,\n",
       " Dataset <id=5e66ab2b-227f-55cd-88aa-2864b653c996 product=sentinel_2_l2a location=https://earth-search.aws.element84.com/v1/collections/sentinel-2-l1c/items/S2A_49MHN_20200101_0_L1C>,\n",
       " Dataset <id=90a445c3-50c8-51fe-9326-4536acc6be77 product=sentinel_2_l2a location=https://earth-search.aws.element84.com/v1/collections/sentinel-2-l1c/items/S2A_50MKT_20200101_0_L1C>,\n",
       " Dataset <id=7d0210eb-46b7-5654-a403-f097dbe507ae product=sentinel_2_l2a location=https://earth-search.aws.element84.com/v1/collections/sentinel-2-c1-l2a/items/S2A_T50MLT_20200101T024527_L2A>,\n",
       " Dataset <id=d9b2935e-7564-5ffe-ba88-2372560ec0a7 product=sentinel_2_l2a location=https://earth-search.aws.element84.com/v1/collections/sentinel-2-l2a/items/S2A_49MHN_20200101_1_L2A>,\n",
       " Dataset <id=dc9de505-cc08-5532-a6fb-d2bac809252a product=sentinel_2_l2a location=https://earth-search.aws.element84.com/v1/collections/sentinel-2-l2a/items/S2A_50MKT_20200101_0_L2A>,\n",
       " Dataset <id=35b5e36c-92bf-5b04-a47c-5b0371b6d27f product=sentinel_2_l2a location=https://earth-search.aws.element84.com/v1/collections/sentinel-2-l1c/items/S2A_50MLT_20200101_1_L1C>,\n",
       " Dataset <id=7458350c-d4a8-5f59-ad09-3e535589ceae product=sentinel_2_l2a location=https://earth-search.aws.element84.com/v1/collections/sentinel-2-l2a/items/S2A_50MLT_20200101_1_L2A>,\n",
       " Dataset <id=5380597f-37c7-504c-b3e0-989580257dde product=sentinel_2_l2a location=https://earth-search.aws.element84.com/v1/collections/sentinel-2-l2a/items/S2A_50MLT_20200101_0_L2A>]"
      ]
     },
     "execution_count": 6,
     "metadata": {},
     "output_type": "execute_result"
    }
   ],
   "source": [
    "datasets = dc.find_datasets(\n",
    "    product=\"sentinel_2_l2a\",\n",
    "    x=(114, 116),\n",
    "    y=(-7, -9),\n",
    "    time=(\"2020-01-01\", \"2020-01-02\")\n",
    ")\n",
    "datasets"
   ]
  },
  {
   "cell_type": "markdown",
   "id": "fd92c63b-ea78-4814-b5a6-2461f4c66eaa",
   "metadata": {},
   "source": [
    "### Inspecting Dataset"
   ]
  },
  {
   "cell_type": "code",
   "execution_count": 7,
   "id": "4b4e0c1d-5ce1-4623-b914-61eceed26567",
   "metadata": {},
   "outputs": [
    {
     "name": "stderr",
     "output_type": "stream",
     "text": [
      "/tmp/ipykernel_659/1531116856.py:1: ODC2DeprecationWarning: Call to deprecated function (or staticmethod) uris. (Multiple locations are now deprecated. Please use the 'uri' attribute instead.)\n",
      "-- Deprecated since version 1.9.0.\n",
      "  datasets[0].uris\n"
     ]
    },
    {
     "data": {
      "text/plain": [
       "['https://earth-search.aws.element84.com/v1/collections/sentinel-2-l1c/items/S2A_50LKR_20200101_0_L1C']"
      ]
     },
     "execution_count": 7,
     "metadata": {},
     "output_type": "execute_result"
    }
   ],
   "source": [
    "datasets[0].uris"
   ]
  },
  {
   "cell_type": "code",
   "execution_count": 8,
   "id": "2002188c-dc7d-47de-965c-6c2ca372d908",
   "metadata": {},
   "outputs": [
    {
     "data": {
      "text/plain": [
       "{'nir': {'grid': 'g10',\n",
       "  'path': 's3://sentinel-s2-l2a/tiles/50/L/KR/2020/1/1/0/B08.jp2'},\n",
       " 'red': {'grid': 'g10',\n",
       "  'path': 's3://sentinel-s2-l2a/tiles/50/L/KR/2020/1/1/0/B04.jp2'},\n",
       " 'blue': {'grid': 'g10',\n",
       "  'path': 's3://sentinel-s2-l2a/tiles/50/L/KR/2020/1/1/0/B02.jp2'},\n",
       " 'green': {'grid': 'g10',\n",
       "  'path': 's3://sentinel-s2-l2a/tiles/50/L/KR/2020/1/1/0/B03.jp2'},\n",
       " 'nir08': {'path': 's3://sentinel-s2-l2a/tiles/50/L/KR/2020/1/1/0/B8A.jp2'},\n",
       " 'nir09': {'grid': 'g60',\n",
       "  'path': 's3://sentinel-s2-l2a/tiles/50/L/KR/2020/1/1/0/B09.jp2'},\n",
       " 'cirrus': {'grid': 'g60',\n",
       "  'path': 's3://sentinel-s2-l2a/tiles/50/L/KR/2020/1/1/0/B10.jp2'},\n",
       " 'swir16': {'path': 's3://sentinel-s2-l2a/tiles/50/L/KR/2020/1/1/0/B11.jp2'},\n",
       " 'swir22': {'path': 's3://sentinel-s2-l2a/tiles/50/L/KR/2020/1/1/0/B12.jp2'},\n",
       " 'visual': {'grid': 'g10',\n",
       "  'path': 's3://sentinel-s2-l2a/tiles/50/L/KR/2020/1/1/0/TCI.jp2'},\n",
       " 'coastal': {'grid': 'g60',\n",
       "  'path': 's3://sentinel-s2-l2a/tiles/50/L/KR/2020/1/1/0/B01.jp2'},\n",
       " 'rededge1': {'path': 's3://sentinel-s2-l2a/tiles/50/L/KR/2020/1/1/0/B05.jp2'},\n",
       " 'rededge2': {'path': 's3://sentinel-s2-l2a/tiles/50/L/KR/2020/1/1/0/B06.jp2'},\n",
       " 'rededge3': {'path': 's3://sentinel-s2-l2a/tiles/50/L/KR/2020/1/1/0/B07.jp2'}}"
      ]
     },
     "execution_count": 8,
     "metadata": {},
     "output_type": "execute_result"
    }
   ],
   "source": [
    "datasets[0].measurements"
   ]
  },
  {
   "cell_type": "code",
   "execution_count": 9,
   "id": "d109243b-aa80-4dd1-ba89-d450d42124af",
   "metadata": {},
   "outputs": [
    {
     "data": {
      "text/plain": [
       "CRS('EPSG:32750')"
      ]
     },
     "execution_count": 9,
     "metadata": {},
     "output_type": "execute_result"
    }
   ],
   "source": [
    "datasets[0].crs"
   ]
  },
  {
   "cell_type": "code",
   "execution_count": 10,
   "id": "32abf4a1-9f4f-4fdf-8547-0ba08952dc6d",
   "metadata": {},
   "outputs": [
    {
     "data": {
      "text/plain": [
       "Affine(109800.0, 0.0, 199980.0,\n",
       "       0.0, -109800.0, 9100000.0)"
      ]
     },
     "execution_count": 10,
     "metadata": {},
     "output_type": "execute_result"
    }
   ],
   "source": [
    "datasets[0].transform"
   ]
  },
  {
   "cell_type": "code",
   "execution_count": 11,
   "id": "60d0e494-a34d-4cb5-b79f-1c2f28af8eba",
   "metadata": {},
   "outputs": [
    {
     "data": {
      "text/plain": [
       "['cloud_cover',\n",
       " 'creation_dt',\n",
       " 'creation_time',\n",
       " 'dataset_maturity',\n",
       " 'format',\n",
       " 'grid_spatial',\n",
       " 'id',\n",
       " 'instrument',\n",
       " 'label',\n",
       " 'lat',\n",
       " 'lon',\n",
       " 'measurements',\n",
       " 'platform',\n",
       " 'product_family',\n",
       " 'region_code',\n",
       " 'sources',\n",
       " 'time']"
      ]
     },
     "execution_count": 11,
     "metadata": {},
     "output_type": "execute_result"
    }
   ],
   "source": [
    "# attributes and methods that are available\n",
    "ds0 = datasets[0]\n",
    "dir(ds0.metadata)"
   ]
  },
  {
   "cell_type": "code",
   "execution_count": 12,
   "id": "ddfa4a50-d30d-42f4-8c13-3841c62f7c1f",
   "metadata": {},
   "outputs": [
    {
     "data": {
      "text/plain": [
       "99.6959"
      ]
     },
     "execution_count": 12,
     "metadata": {},
     "output_type": "execute_result"
    }
   ],
   "source": [
    "ds0.metadata.cloud_cover"
   ]
  },
  {
   "cell_type": "code",
   "execution_count": 13,
   "id": "172eb3cd-abf2-4931-9605-147b9dd562c5",
   "metadata": {},
   "outputs": [
    {
     "data": {
      "text/plain": [
       "99.6959"
      ]
     },
     "execution_count": 13,
     "metadata": {},
     "output_type": "execute_result"
    }
   ],
   "source": [
    "getattr(ds0.metadata, 'cloud_cover')"
   ]
  },
  {
   "cell_type": "code",
   "execution_count": 14,
   "id": "cdb0f8cd-31eb-4b06-812b-ebd6bff5a233",
   "metadata": {},
   "outputs": [
    {
     "data": {
      "text/plain": [
       "'b38c4c54-cb1a-5cc6-947c-1cc00b738f42'"
      ]
     },
     "execution_count": 14,
     "metadata": {},
     "output_type": "execute_result"
    }
   ],
   "source": [
    "ds0.metadata.id"
   ]
  },
  {
   "cell_type": "code",
   "execution_count": 15,
   "id": "cb98d376-f97b-4ca2-89ba-630d8601d3b5",
   "metadata": {},
   "outputs": [
    {
     "data": {
      "text/plain": [
       "Range(begin=-9.131078481612201, end=-8.132907839951939)"
      ]
     },
     "execution_count": 15,
     "metadata": {},
     "output_type": "execute_result"
    }
   ],
   "source": [
    "ds0.metadata.lat"
   ]
  },
  {
   "cell_type": "code",
   "execution_count": 16,
   "id": "521f0685-273b-4a59-b0e5-cec3f80f707b",
   "metadata": {},
   "outputs": [
    {
     "data": {
      "text/plain": [
       "-9.131078481612201"
      ]
     },
     "execution_count": 16,
     "metadata": {},
     "output_type": "execute_result"
    }
   ],
   "source": [
    "ds0.metadata.lat.begin"
   ]
  },
  {
   "cell_type": "code",
   "execution_count": 17,
   "id": "91d4e0bb-6d41-4b92-97db-2735d5b36efe",
   "metadata": {},
   "outputs": [],
   "source": [
    "# pprint(vars(ds0))"
   ]
  },
  {
   "cell_type": "markdown",
   "id": "d36bc34d-a958-45d8-92cd-82c1ff175692",
   "metadata": {},
   "source": [
    "## Load Data\n",
    "Once you know the products or datasets that you are interested in, you can load data using `dc.load()`."
   ]
  },
  {
   "cell_type": "code",
   "execution_count": 34,
   "id": "cc7bce42-1756-475b-b62b-9ce557293b55",
   "metadata": {},
   "outputs": [
    {
     "name": "stderr",
     "output_type": "stream",
     "text": [
      "Querying product Product(name='sentinel_2_l2a', id_=1)\n"
     ]
    },
    {
     "data": {
      "text/plain": [
       "[Dataset <id=98926322-4bb1-5990-aac2-7df7630c0481 product=sentinel_2_l2a location=https://earth-search.aws.element84.com/v1/collections/sentinel-2-l1c/items/S2A_50MKS_20200131_0_L1C>,\n",
       " Dataset <id=aaa6c430-de7d-5aed-bdaa-f5f32b6b52ef product=sentinel_2_l2a location=https://earth-search.aws.element84.com/v1/collections/sentinel-2-l2a/items/S2A_50MKT_20200131_1_L2A>,\n",
       " Dataset <id=9718a9de-9eee-5acd-8c00-18aa9057e100 product=sentinel_2_l2a location=https://earth-search.aws.element84.com/v1/collections/landsat-c2-l2/items/LC08_L2SP_117066_20200130_02_T1>,\n",
       " Dataset <id=f128ae43-15fe-5e98-900c-416ac7516e14 product=sentinel_2_l2a location=https://earth-search.aws.element84.com/v1/collections/sentinel-2-l1c/items/S2B_49MHM_20200126_0_L1C>,\n",
       " Dataset <id=9e45186c-1c48-53d1-b28d-96a532202da3 product=sentinel_2_l2a location=https://earth-search.aws.element84.com/v1/collections/sentinel-2-l2a/items/S2B_49MHN_20200126_1_L2A>,\n",
       " Dataset <id=ee48c841-61da-5321-b374-eff86811d1f6 product=sentinel_2_l2a location=https://earth-search.aws.element84.com/v1/collections/sentinel-2-l1c/items/S2A_49MHM_20200131_1_L1C>,\n",
       " Dataset <id=643e2aa3-ea4a-57a3-a30e-53207f4b740a product=sentinel_2_l2a location=https://earth-search.aws.element84.com/v1/collections/sentinel-2-l2a/items/S2A_49MHM_20200131_0_L2A>,\n",
       " Dataset <id=a2934158-62ad-5fcf-acb3-d73beeaffce7 product=sentinel_2_l2a location=https://earth-search.aws.element84.com/v1/collections/sentinel-2-l2a/items/S2A_49MHM_20200131_1_L2A>,\n",
       " Dataset <id=7d62ef36-6523-5e80-b715-bc2346ff919a product=sentinel_2_l2a location=https://earth-search.aws.element84.com/v1/collections/sentinel-2-c1-l2a/items/S2A_T50MKT_20200131T024423_L2A>,\n",
       " Dataset <id=a4c3e0ba-e6b4-508b-a60b-c5ef20afcddb product=sentinel_2_l2a location=https://earth-search.aws.element84.com/v1/collections/sentinel-2-c1-l2a/items/S2A_T49MHM_20200131T024423_L2A>,\n",
       " Dataset <id=1f52c192-db6c-5e83-bc7a-4e2dfbf0682c product=sentinel_2_l2a location=https://earth-search.aws.element84.com/v1/collections/sentinel-2-c1-l2a/items/S2A_T50MKS_20200131T024423_L2A>,\n",
       " Dataset <id=73dba611-716e-57ac-9515-c2085ff0f15e product=sentinel_2_l2a location=https://earth-search.aws.element84.com/v1/collections/sentinel-2-l1c/items/S2A_50MKS_20200131_1_L1C>,\n",
       " Dataset <id=75b4e354-47a7-530b-9521-8306a7e57e5c product=sentinel_2_l2a location=https://earth-search.aws.element84.com/v1/collections/sentinel-2-l2a/items/S2A_50MKS_20200131_0_L2A>,\n",
       " Dataset <id=31b02de3-dcd6-5e89-8e9b-695c1bcc3766 product=sentinel_2_l2a location=https://earth-search.aws.element84.com/v1/collections/sentinel-2-l1c/items/S2A_49MHM_20200131_0_L1C>,\n",
       " Dataset <id=015681a8-9525-5627-b0f7-bee204164973 product=sentinel_2_l2a location=https://earth-search.aws.element84.com/v1/collections/sentinel-2-l2a/items/S2A_50MKS_20200131_1_L2A>,\n",
       " Dataset <id=60c1b379-6fb8-5808-b811-8fd3d3e67a98 product=sentinel_2_l2a location=https://earth-search.aws.element84.com/v1/collections/sentinel-2-l1c/items/S2A_49MHN_20200131_1_L1C>,\n",
       " Dataset <id=51413914-258a-5a69-bce5-175eb68fe645 product=sentinel_2_l2a location=https://earth-search.aws.element84.com/v1/collections/sentinel-2-c1-l2a/items/S2A_T49MHN_20200131T024423_L2A>,\n",
       " Dataset <id=c4d24708-be6c-56f6-9937-c1eca59ea4d3 product=sentinel_2_l2a location=https://earth-search.aws.element84.com/v1/collections/sentinel-2-l2a/items/S2A_49MHN_20200131_0_L2A>,\n",
       " Dataset <id=f0e6ce7e-fb46-54a2-85c2-7d309ee7046a product=sentinel_2_l2a location=https://earth-search.aws.element84.com/v1/collections/sentinel-2-l2a/items/S2A_49MHN_20200131_1_L2A>,\n",
       " Dataset <id=3794894f-6618-567d-b8a9-4fc757b92bc7 product=sentinel_2_l2a location=https://earth-search.aws.element84.com/v1/collections/sentinel-2-l2a/items/S2A_50MKT_20200131_0_L2A>,\n",
       " Dataset <id=a7938f24-b11a-5dbb-9510-35bd5f6ac539 product=sentinel_2_l2a location=https://earth-search.aws.element84.com/v1/collections/sentinel-2-l1c/items/S2A_49MHN_20200131_0_L1C>,\n",
       " Dataset <id=a4718238-3372-5db7-bf20-2df3dea3f974 product=sentinel_2_l2a location=https://earth-search.aws.element84.com/v1/collections/sentinel-2-l1c/items/S2A_50MKT_20200131_1_L1C>,\n",
       " Dataset <id=355d1cc4-3d57-5b01-899b-ff873309a1ef product=sentinel_2_l2a location=https://earth-search.aws.element84.com/v1/collections/sentinel-2-l1c/items/S2A_50MKT_20200131_0_L1C>,\n",
       " Dataset <id=69eb4d86-8799-5181-aaff-b687a83c1ded product=sentinel_2_l2a location=https://earth-search.aws.element84.com/v1/collections/sentinel-1-grd/items/S1A_IW_GRDH_1SDV_20200130T104153_20200130T104221_031028_039076>,\n",
       " Dataset <id=374e49e2-5389-5dec-92d1-3c93a542caa3 product=sentinel_2_l2a location=https://earth-search.aws.element84.com/v1/collections/landsat-c2-l2/items/LE07_L2SP_116066_20200131_02_T1>,\n",
       " Dataset <id=540740f4-b6d4-5070-8cc8-019440b6ea5d product=sentinel_2_l2a location=https://earth-search.aws.element84.com/v1/collections/sentinel-1-grd/items/S1A_IW_GRDH_1SDV_20200130T104124_20200130T104153_031028_039076>,\n",
       " Dataset <id=74cc1df9-e8e1-512b-9dcf-0170ce405cfa product=sentinel_2_l2a location=https://earth-search.aws.element84.com/v1/collections/landsat-c2-l2/items/LC08_L2SP_117065_20200130_02_T1>,\n",
       " Dataset <id=69ab25f6-1f5e-5bdf-bc87-9eff945aafe7 product=sentinel_2_l2a location=https://earth-search.aws.element84.com/v1/collections/landsat-c2-l2/items/LE07_L2SP_118065_20200129_02_T1>,\n",
       " Dataset <id=ff14ba15-037d-5101-b401-07527c8ce87d product=sentinel_2_l2a location=https://earth-search.aws.element84.com/v1/collections/sentinel-2-c1-l2a/items/S2A_T50MKS_20200128T023757_L2A>,\n",
       " Dataset <id=283f0d61-0dc7-5c5e-a380-76162c59ccdd product=sentinel_2_l2a location=https://earth-search.aws.element84.com/v1/collections/sentinel-2-l2a/items/S2A_50MKS_20200128_1_L2A>,\n",
       " Dataset <id=8be842c8-4bfc-5452-862f-a8662755b70c product=sentinel_2_l2a location=https://earth-search.aws.element84.com/v1/collections/sentinel-2-l1c/items/S2A_50MKS_20200128_0_L1C>,\n",
       " Dataset <id=e48bc806-6729-5400-a357-5753edef6c12 product=sentinel_2_l2a location=https://earth-search.aws.element84.com/v1/collections/sentinel-2-l2a/items/S2A_50MKS_20200128_0_L2A>,\n",
       " Dataset <id=713d4c30-a42d-58a9-85e1-8970890b2fd4 product=sentinel_2_l2a location=https://earth-search.aws.element84.com/v1/collections/sentinel-1-grd/items/S1B_IW_GRDH_1SDV_20200127T215231_20200127T215305_020008_025DA9>,\n",
       " Dataset <id=71b5bd81-785e-5b56-b3b4-ca1618ad68fd product=sentinel_2_l2a location=https://earth-search.aws.element84.com/v1/collections/sentinel-2-l1c/items/S2B_50MKS_20200126_1_L1C>,\n",
       " Dataset <id=282381b6-6163-55c1-a63e-f6f8c70484cf product=sentinel_2_l2a location=https://earth-search.aws.element84.com/v1/collections/sentinel-2-c1-l2a/items/S2B_T49MHN_20200126T024800_L2A>,\n",
       " Dataset <id=209582ee-e762-5bff-8aa6-f339b42807db product=sentinel_2_l2a location=https://earth-search.aws.element84.com/v1/collections/sentinel-1-grd/items/S1A_IW_GRDH_1SDV_20200123T105003_20200123T105028_030926_038CD3>,\n",
       " Dataset <id=886ed828-221e-555a-8c71-771af20e1ed5 product=sentinel_2_l2a location=https://earth-search.aws.element84.com/v1/collections/landsat-c2-l2/items/LE07_L2SP_117065_20200122_02_T1>,\n",
       " Dataset <id=1300a5d8-7874-55a8-be51-908adb7efbcb product=sentinel_2_l2a location=https://earth-search.aws.element84.com/v1/collections/sentinel-2-l2a/items/S2A_49MHM_20200121_1_L2A>,\n",
       " Dataset <id=d6b39def-8568-5541-b2cc-4f846c500d27 product=sentinel_2_l2a location=https://earth-search.aws.element84.com/v1/collections/sentinel-2-l2a/items/S2A_50MKT_20200121_1_L2A>,\n",
       " Dataset <id=02b5b29e-cba6-5faf-ab15-dd60bc9f6f31 product=sentinel_2_l2a location=https://earth-search.aws.element84.com/v1/collections/sentinel-1-grd/items/S1A_IW_GRDH_1SDV_20200118T104124_20200118T104153_030853_038A53>,\n",
       " Dataset <id=4239ed3c-d861-5c23-9d7f-fa29c053133d product=sentinel_2_l2a location=https://earth-search.aws.element84.com/v1/collections/sentinel-2-c1-l2a/items/S2B_T49MHM_20200126T024800_L2A>,\n",
       " Dataset <id=8dba493f-a73c-5fa8-8ae2-82bd86388cd8 product=sentinel_2_l2a location=https://earth-search.aws.element84.com/v1/collections/sentinel-2-l2a/items/S2B_49MHM_20200126_0_L2A>,\n",
       " Dataset <id=2a4f69d2-f686-58be-9501-943ab0fac73c product=sentinel_2_l2a location=https://earth-search.aws.element84.com/v1/collections/sentinel-2-l2a/items/S2A_50MKS_20200121_1_L2A>,\n",
       " Dataset <id=111c87df-efbf-5d86-9fbc-f5d3a7c2e6e2 product=sentinel_2_l2a location=https://earth-search.aws.element84.com/v1/collections/sentinel-2-l2a/items/S2A_49MHN_20200121_0_L2A>,\n",
       " Dataset <id=bff5efe8-c722-5f4a-9c5d-5ace619ac37c product=sentinel_2_l2a location=https://earth-search.aws.element84.com/v1/collections/landsat-c2-l2/items/LC08_L2SP_118065_20200121_02_T1>,\n",
       " Dataset <id=65aeeab4-c7a0-56cc-9d07-6031016f0a7b product=sentinel_2_l2a location=https://earth-search.aws.element84.com/v1/collections/sentinel-2-l2a/items/S2A_50MKT_20200128_1_L2A>,\n",
       " Dataset <id=98b78336-8e09-5280-9366-2d09de4399cd product=sentinel_2_l2a location=https://earth-search.aws.element84.com/v1/collections/sentinel-2-c1-l2a/items/S2A_T50MKT_20200128T023757_L2A>,\n",
       " Dataset <id=bd14007d-a211-51d4-b7a2-ef9b53d2b3cd product=sentinel_2_l2a location=https://earth-search.aws.element84.com/v1/collections/sentinel-2-l2a/items/S2A_50MKT_20200128_0_L2A>,\n",
       " Dataset <id=9dcce6cd-18e9-5d38-b0da-de6aefdef10e product=sentinel_2_l2a location=https://earth-search.aws.element84.com/v1/collections/sentinel-2-l1c/items/S2A_50MKT_20200128_0_L1C>,\n",
       " Dataset <id=9e0717aa-d548-597d-b7ea-2dc20e8f62fe product=sentinel_2_l2a location=https://earth-search.aws.element84.com/v1/collections/sentinel-1-grd/items/S1A_IW_GRDH_1SDV_20200126T220109_20200126T220134_030977_038EAC>,\n",
       " Dataset <id=a4e03b95-f672-54fe-9d4b-c099deb7e470 product=sentinel_2_l2a location=https://earth-search.aws.element84.com/v1/collections/sentinel-1-grd/items/S1A_IW_GRDH_1SDV_20200126T220044_20200126T220109_030977_038EAC>,\n",
       " Dataset <id=814303bd-9c87-56c1-96fd-11eaae782e91 product=sentinel_2_l2a location=https://earth-search.aws.element84.com/v1/collections/sentinel-2-l2a/items/S2B_49MHM_20200126_1_L2A>,\n",
       " Dataset <id=33148ac8-8564-5e03-8ba4-b1c692f98025 product=sentinel_2_l2a location=https://earth-search.aws.element84.com/v1/collections/sentinel-2-l1c/items/S2B_49MHM_20200126_1_L1C>,\n",
       " Dataset <id=6781352b-6f31-5eb7-a93d-c302868f60ec product=sentinel_2_l2a location=https://earth-search.aws.element84.com/v1/collections/sentinel-2-l2a/items/S2B_50MKS_20200126_1_L2A>,\n",
       " Dataset <id=db6cd6e4-715c-5008-bd8b-bb4047c550f9 product=sentinel_2_l2a location=https://earth-search.aws.element84.com/v1/collections/sentinel-2-c1-l2a/items/S2B_T50MKS_20200126T024800_L2A>,\n",
       " Dataset <id=2887ab65-220a-5e23-b7d5-66ae1ce86b5c product=sentinel_2_l2a location=https://earth-search.aws.element84.com/v1/collections/sentinel-2-l2a/items/S2B_50MKS_20200126_0_L2A>,\n",
       " Dataset <id=e35f0247-7751-5ad4-bdc1-ddcd20bb24c7 product=sentinel_2_l2a location=https://earth-search.aws.element84.com/v1/collections/sentinel-2-l1c/items/S2B_50MKS_20200126_0_L1C>,\n",
       " Dataset <id=ea5bd9ef-ed4e-5851-88fd-c993ece47c2d product=sentinel_2_l2a location=https://earth-search.aws.element84.com/v1/collections/sentinel-2-l1c/items/S2B_49MHN_20200126_0_L1C>,\n",
       " Dataset <id=0a0f62d4-cebe-53bb-82e5-f38849d99938 product=sentinel_2_l2a location=https://earth-search.aws.element84.com/v1/collections/sentinel-2-l2a/items/S2B_50MKT_20200126_1_L2A>,\n",
       " Dataset <id=ead90600-6e20-5329-8f94-f78af528520f product=sentinel_2_l2a location=https://earth-search.aws.element84.com/v1/collections/sentinel-2-l1c/items/S2B_49MHN_20200126_1_L1C>,\n",
       " Dataset <id=ba6bb19e-0a24-5b21-9fd6-e30a2daedb26 product=sentinel_2_l2a location=https://earth-search.aws.element84.com/v1/collections/sentinel-2-l1c/items/S2B_50MKT_20200126_1_L1C>,\n",
       " Dataset <id=521c5b30-f7c3-5182-a50c-d852fd848101 product=sentinel_2_l2a location=https://earth-search.aws.element84.com/v1/collections/sentinel-2-l2a/items/S2B_49MHN_20200126_0_L2A>,\n",
       " Dataset <id=fd37d6fd-acb0-5f86-9228-b91291573731 product=sentinel_2_l2a location=https://earth-search.aws.element84.com/v1/collections/sentinel-2-c1-l2a/items/S2B_T50MKT_20200126T024800_L2A>,\n",
       " Dataset <id=7f68631e-c475-5247-8897-985520c25663 product=sentinel_2_l2a location=https://earth-search.aws.element84.com/v1/collections/sentinel-2-l1c/items/S2B_50MKT_20200126_0_L1C>,\n",
       " Dataset <id=20b270ab-89a7-5669-8300-280e473e874c product=sentinel_2_l2a location=https://earth-search.aws.element84.com/v1/collections/sentinel-2-l2a/items/S2B_50MKT_20200126_0_L2A>,\n",
       " Dataset <id=47609455-9c1b-53f8-900d-1f2de4f998ad product=sentinel_2_l2a location=https://earth-search.aws.element84.com/v1/collections/sentinel-2-l2a/items/S2B_50MKS_20200123_0_L2A>,\n",
       " Dataset <id=e592f9a8-b86b-57b0-9090-2940e7b81116 product=sentinel_2_l2a location=https://earth-search.aws.element84.com/v1/collections/sentinel-2-c1-l2a/items/S2B_T50MKS_20200123T023807_L2A>,\n",
       " Dataset <id=c9c5b456-0fc6-54ea-bc97-599a8e56d3c1 product=sentinel_2_l2a location=https://earth-search.aws.element84.com/v1/collections/sentinel-2-l2a/items/S2B_50MKS_20200123_1_L2A>,\n",
       " Dataset <id=b999c068-0ab2-5194-b028-00bbd4ad2b65 product=sentinel_2_l2a location=https://earth-search.aws.element84.com/v1/collections/sentinel-2-c1-l2a/items/S2B_T50MKT_20200123T023807_L2A>,\n",
       " Dataset <id=1d9da65b-cc86-52b1-9607-882690f54641 product=sentinel_2_l2a location=https://earth-search.aws.element84.com/v1/collections/sentinel-1-grd/items/S1A_IW_GRDH_1SDV_20200121T215308_20200121T215336_030904_038C12>,\n",
       " Dataset <id=44e6abe1-1495-5b8a-a920-5f5aa6d65e01 product=sentinel_2_l2a location=https://earth-search.aws.element84.com/v1/collections/sentinel-2-c1-l2a/items/S2A_T50MKS_20200121T024823_L2A>,\n",
       " Dataset <id=7598b4cc-ce51-5a34-85df-cf0f3a25b408 product=sentinel_2_l2a location=https://earth-search.aws.element84.com/v1/collections/sentinel-2-l2a/items/S2A_49MHN_20200121_1_L2A>,\n",
       " Dataset <id=142141e7-b45e-5e51-82fb-9ca3f81d719c product=sentinel_2_l2a location=https://earth-search.aws.element84.com/v1/collections/sentinel-2-l1c/items/S2B_50MKS_20200123_0_L1C>,\n",
       " Dataset <id=b47e2ce3-b4d7-5adf-ae7c-c67c3c432116 product=sentinel_2_l2a location=https://earth-search.aws.element84.com/v1/collections/sentinel-2-l2a/items/S2B_50MKT_20200123_1_L2A>,\n",
       " Dataset <id=81b92f58-de96-523b-9636-7114493882e3 product=sentinel_2_l2a location=https://earth-search.aws.element84.com/v1/collections/sentinel-2-l2a/items/S2B_50MKT_20200123_0_L2A>,\n",
       " Dataset <id=dcc10a79-ae31-57d5-8f6f-6a845f53a65e product=sentinel_2_l2a location=https://earth-search.aws.element84.com/v1/collections/sentinel-2-l1c/items/S2B_50MKT_20200123_0_L1C>,\n",
       " Dataset <id=77a9ce42-c395-51da-a2a2-2a4317c6135b product=sentinel_2_l2a location=https://earth-search.aws.element84.com/v1/collections/landsat-c2-l2/items/LE07_L2SP_117066_20200122_02_T1>,\n",
       " Dataset <id=f0ed9b1a-0942-56bb-a4c2-4e33503bfe6e product=sentinel_2_l2a location=https://earth-search.aws.element84.com/v1/collections/landsat-c2-l2/items/LC08_L2SP_116066_20200123_02_T1>,\n",
       " Dataset <id=8ea00abb-3a64-5596-ac0d-fdd1ca68d973 product=sentinel_2_l2a location=https://earth-search.aws.element84.com/v1/collections/sentinel-2-l1c/items/S2A_49MHM_20200121_0_L1C>,\n",
       " Dataset <id=23024fd4-fbb1-5f13-9395-a4e979501226 product=sentinel_2_l2a location=https://earth-search.aws.element84.com/v1/collections/sentinel-2-l2a/items/S2A_49MHM_20200121_0_L2A>,\n",
       " Dataset <id=09f19a7b-a083-5477-aa07-92cb3cbfba07 product=sentinel_2_l2a location=https://earth-search.aws.element84.com/v1/collections/sentinel-2-c1-l2a/items/S2A_T49MHM_20200121T024823_L2A>,\n",
       " Dataset <id=ab813706-fa2c-5d2d-9a79-294aa0d15455 product=sentinel_2_l2a location=https://earth-search.aws.element84.com/v1/collections/sentinel-2-c1-l2a/items/S2A_T49MHN_20200121T024823_L2A>,\n",
       " Dataset <id=586d8822-2c42-5b20-b85c-1a68ad3fe198 product=sentinel_2_l2a location=https://earth-search.aws.element84.com/v1/collections/sentinel-2-l1c/items/S2A_50MKS_20200121_0_L1C>,\n",
       " Dataset <id=12ad79f0-1c1c-55ac-9647-7df48a05ece9 product=sentinel_2_l2a location=https://earth-search.aws.element84.com/v1/collections/sentinel-2-l2a/items/S2A_50MKS_20200121_0_L2A>,\n",
       " Dataset <id=ab3b00a1-e504-5733-b407-1e8ecdb55b5b product=sentinel_2_l2a location=https://earth-search.aws.element84.com/v1/collections/sentinel-2-l1c/items/S2A_49MHN_20200121_0_L1C>,\n",
       " Dataset <id=31be1c42-2815-55e5-a6a2-bbe05dad85d6 product=sentinel_2_l2a location=https://earth-search.aws.element84.com/v1/collections/sentinel-2-l2a/items/S2A_50MKT_20200121_0_L2A>,\n",
       " Dataset <id=ca805c87-ad85-510b-ba02-be4c545a9c31 product=sentinel_2_l2a location=https://earth-search.aws.element84.com/v1/collections/sentinel-2-c1-l2a/items/S2A_T50MKT_20200121T024823_L2A>,\n",
       " Dataset <id=d0ad19fd-2868-5814-8286-7d14a27c046f product=sentinel_2_l2a location=https://earth-search.aws.element84.com/v1/collections/sentinel-2-l1c/items/S2A_50MKT_20200121_0_L1C>,\n",
       " Dataset <id=dd6964bb-057b-56bd-bfa7-ca609532a698 product=sentinel_2_l2a location=https://earth-search.aws.element84.com/v1/collections/sentinel-1-grd/items/S1A_IW_GRDH_1SDV_20200118T104153_20200118T104221_030853_038A53>,\n",
       " Dataset <id=12d36518-5a20-5640-90eb-0057d286d4d6 product=sentinel_2_l2a location=https://earth-search.aws.element84.com/v1/collections/sentinel-2-c1-l2a/items/S2A_T50MKS_20200118T023840_L2A>,\n",
       " Dataset <id=9597e4c5-591a-5a6c-acb5-731710a2feea product=sentinel_2_l2a location=https://earth-search.aws.element84.com/v1/collections/sentinel-2-l1c/items/S2A_50MKS_20200118_0_L1C>,\n",
       " Dataset <id=1461490e-a6b2-5415-b19b-e6ebe7d8aa4d product=sentinel_2_l2a location=https://earth-search.aws.element84.com/v1/collections/sentinel-2-l2a/items/S2A_50MKS_20200118_1_L2A>,\n",
       " Dataset <id=07f4db3a-715b-5ffc-85a9-ddd83d3d9ab7 product=sentinel_2_l2a location=https://earth-search.aws.element84.com/v1/collections/sentinel-2-l2a/items/S2A_50MKS_20200118_0_L2A>,\n",
       " Dataset <id=4ab8b55b-4d65-5ecd-94e7-1be4cc13a087 product=sentinel_2_l2a location=https://earth-search.aws.element84.com/v1/collections/sentinel-2-l2a/items/S2A_50MKT_20200118_1_L2A>,\n",
       " Dataset <id=cf79e63f-f5fc-538a-8a97-b54df18eb9f5 product=sentinel_2_l2a location=https://earth-search.aws.element84.com/v1/collections/sentinel-2-c1-l2a/items/S2A_T50MKT_20200118T023840_L2A>,\n",
       " Dataset <id=1c65a630-c69e-5fa0-be30-9a17c6785ad4 product=sentinel_2_l2a location=https://earth-search.aws.element84.com/v1/collections/sentinel-2-l1c/items/S2A_50MKT_20200118_0_L1C>,\n",
       " Dataset <id=9756a186-911b-5ad1-b606-e36f503a39f6 product=sentinel_2_l2a location=https://earth-search.aws.element84.com/v1/collections/sentinel-2-l2a/items/S2A_50MKT_20200118_0_L2A>,\n",
       " Dataset <id=35f30547-7d5f-5de8-a149-0ab6eac8dd48 product=sentinel_2_l2a location=https://earth-search.aws.element84.com/v1/collections/sentinel-2-l2a/items/S2B_49MHM_20200116_1_L2A>,\n",
       " Dataset <id=fdbbf697-022b-5605-8960-f8b2a94c3806 product=sentinel_2_l2a location=https://earth-search.aws.element84.com/v1/collections/sentinel-2-l1c/items/S2B_49MHM_20200116_0_L1C>,\n",
       " Dataset <id=ab920081-0ca6-5096-a203-a6b94c75c3d8 product=sentinel_2_l2a location=https://earth-search.aws.element84.com/v1/collections/sentinel-2-c1-l2a/items/S2B_T49MHM_20200116T024841_L2A>,\n",
       " Dataset <id=66890f30-6704-5bfe-9672-e1db91520da8 product=sentinel_2_l2a location=https://earth-search.aws.element84.com/v1/collections/sentinel-2-l2a/items/S2B_49MHM_20200116_0_L2A>,\n",
       " Dataset <id=c3e4d641-7f59-5a36-8f8c-b7863268215e product=sentinel_2_l2a location=https://earth-search.aws.element84.com/v1/collections/sentinel-2-c1-l2a/items/S2B_T50MKS_20200116T024841_L2A>,\n",
       " Dataset <id=796a91d9-2cd5-5f88-afd3-7c4acd2e9fe4 product=sentinel_2_l2a location=https://earth-search.aws.element84.com/v1/collections/sentinel-2-l2a/items/S2B_49MHN_20200116_0_L2A>,\n",
       " Dataset <id=b27394ee-df22-5e96-9f93-455d8e199584 product=sentinel_2_l2a location=https://earth-search.aws.element84.com/v1/collections/sentinel-2-l1c/items/S2B_50MKS_20200116_0_L1C>,\n",
       " Dataset <id=c735ee75-c935-5ccc-943e-f19f39294571 product=sentinel_2_l2a location=https://earth-search.aws.element84.com/v1/collections/sentinel-2-l2a/items/S2B_50MKS_20200116_1_L2A>,\n",
       " Dataset <id=eec27f1f-171b-5fb4-a638-5855e1bead96 product=sentinel_2_l2a location=https://earth-search.aws.element84.com/v1/collections/sentinel-2-l2a/items/S2B_50MKS_20200116_0_L2A>,\n",
       " Dataset <id=82318384-7df1-5078-8a29-cec23fcc340a product=sentinel_2_l2a location=https://earth-search.aws.element84.com/v1/collections/sentinel-2-l1c/items/S2B_49MHN_20200116_0_L1C>,\n",
       " Dataset <id=cb470a58-3dee-5052-8bc2-07443a70117d product=sentinel_2_l2a location=https://earth-search.aws.element84.com/v1/collections/sentinel-2-l2a/items/S2B_49MHN_20200116_1_L2A>,\n",
       " Dataset <id=881633d6-31a1-5ed4-af43-70c3ba8e5120 product=sentinel_2_l2a location=https://earth-search.aws.element84.com/v1/collections/sentinel-2-c1-l2a/items/S2B_T50MKT_20200116T024841_L2A>,\n",
       " Dataset <id=11354e9e-0b7c-5bb1-ba6d-8a5bfa0f274c product=sentinel_2_l2a location=https://earth-search.aws.element84.com/v1/collections/sentinel-2-l1c/items/S2B_50MKT_20200116_0_L1C>,\n",
       " Dataset <id=58ab780e-c319-5fea-a3fd-1187f2657e63 product=sentinel_2_l2a location=https://earth-search.aws.element84.com/v1/collections/sentinel-2-c1-l2a/items/S2B_T49MHN_20200116T024841_L2A>,\n",
       " Dataset <id=149958b2-3d1e-538f-9c12-1b88203a9a81 product=sentinel_2_l2a location=https://earth-search.aws.element84.com/v1/collections/sentinel-2-l2a/items/S2B_50MKT_20200116_1_L2A>,\n",
       " Dataset <id=8a966cc2-fa62-58c0-911d-9a1f05c2b053 product=sentinel_2_l2a location=https://earth-search.aws.element84.com/v1/collections/sentinel-2-l2a/items/S2B_50MKT_20200116_0_L2A>,\n",
       " Dataset <id=455dc877-90d5-5d03-a63a-1212dcb78d9f product=sentinel_2_l2a location=https://earth-search.aws.element84.com/v1/collections/sentinel-1-grd/items/S1A_IW_GRDH_1SDV_20200114T220109_20200114T220134_030802_038882>,\n",
       " Dataset <id=dca4ce1c-b893-5f51-991f-00bce54f1fcc product=sentinel_2_l2a location=https://earth-search.aws.element84.com/v1/collections/sentinel-1-grd/items/S1B_IW_GRDH_1SDV_20200115T215232_20200115T215306_019833_02580B>,\n",
       " Dataset <id=49d009ba-3ea3-5a2b-9e9d-58b27ec4c76b product=sentinel_2_l2a location=https://earth-search.aws.element84.com/v1/collections/sentinel-1-grd/items/S1A_IW_GRDH_1SDV_20200114T220044_20200114T220109_030802_038882>,\n",
       " Dataset <id=5011abe1-ca28-5e1e-9a58-598f8c1e6e90 product=sentinel_2_l2a location=https://earth-search.aws.element84.com/v1/collections/landsat-c2-l2/items/LC08_L2SP_117065_20200114_02_T1>,\n",
       " Dataset <id=4a871ab9-9e12-5d52-ab65-4294f99cf52c product=sentinel_2_l2a location=https://earth-search.aws.element84.com/v1/collections/landsat-c2-l2/items/LC08_L2SP_117066_20200114_02_T1>,\n",
       " Dataset <id=d70d4a00-7f29-528a-bb64-d5886ea6ffb8 product=sentinel_2_l2a location=https://earth-search.aws.element84.com/v1/collections/landsat-c2-l2/items/LE07_L2SP_116066_20200115_02_T1>,\n",
       " Dataset <id=0dae800d-80fa-52ce-a155-5fa4ab3ad47f product=sentinel_2_l2a location=https://earth-search.aws.element84.com/v1/collections/sentinel-2-c1-l2a/items/S2B_T50MKS_20200113T023844_L2A>,\n",
       " Dataset <id=de2454ed-20d6-512b-ac54-c3c3d1c94bca product=sentinel_2_l2a location=https://earth-search.aws.element84.com/v1/collections/sentinel-2-l2a/items/S2B_50MKS_20200113_0_L2A>,\n",
       " Dataset <id=80e67400-0eec-5a1d-b354-fca620526c06 product=sentinel_2_l2a location=https://earth-search.aws.element84.com/v1/collections/sentinel-2-l2a/items/S2B_50MKS_20200113_1_L2A>,\n",
       " Dataset <id=f2c462d4-7fad-5ae5-b875-da810d78a42b product=sentinel_2_l2a location=https://earth-search.aws.element84.com/v1/collections/sentinel-2-l2a/items/S2B_50MKT_20200113_0_L2A>,\n",
       " Dataset <id=3220600f-24b8-5f81-831c-f7fc89ee0946 product=sentinel_2_l2a location=https://earth-search.aws.element84.com/v1/collections/sentinel-2-l1c/items/S2B_50MKS_20200113_0_L1C>,\n",
       " Dataset <id=6d7a9a84-1969-5db8-a9fb-636ee4596d69 product=sentinel_2_l2a location=https://earth-search.aws.element84.com/v1/collections/sentinel-1-grd/items/S1A_IW_GRDH_1SDV_20200111T105003_20200111T105028_030751_0386AF>,\n",
       " Dataset <id=d1c7aa6d-83f5-5383-9205-1a5a4248efc5 product=sentinel_2_l2a location=https://earth-search.aws.element84.com/v1/collections/sentinel-2-l1c/items/S2A_49MHM_20200111_0_L1C>,\n",
       " Dataset <id=1de46bed-185e-53b6-b7b9-5f792bb24180 product=sentinel_2_l2a location=https://earth-search.aws.element84.com/v1/collections/sentinel-2-c1-l2a/items/S2A_T49MHN_20200111T024730_L2A>,\n",
       " Dataset <id=04711c0d-1236-543c-8d36-7f2d3a6fe7c9 product=sentinel_2_l2a location=https://earth-search.aws.element84.com/v1/collections/sentinel-2-c1-l2a/items/S2A_T50MKT_20200111T024730_L2A>,\n",
       " Dataset <id=a35f6039-1918-56c0-8c05-6c3819d55795 product=sentinel_2_l2a location=https://earth-search.aws.element84.com/v1/collections/sentinel-2-c1-l2a/items/S2B_T49MHN_20200106T024843_L2A>,\n",
       " Dataset <id=19d8a819-868b-5308-8f01-b209013be9b2 product=sentinel_2_l2a location=https://earth-search.aws.element84.com/v1/collections/sentinel-1-grd/items/S1B_IW_GRDH_1SDV_20200103T215232_20200103T215306_019658_025277>,\n",
       " Dataset <id=e49b5838-449c-5a86-8404-88a43fe63601 product=sentinel_2_l2a location=https://earth-search.aws.element84.com/v1/collections/sentinel-2-l1c/items/S2B_50MKS_20200103_1_L1C>,\n",
       " Dataset <id=eddf2e86-d208-5e3f-abe4-1405d3f13254 product=sentinel_2_l2a location=https://earth-search.aws.element84.com/v1/collections/sentinel-2-c1-l2a/items/S2B_T50MKT_20200113T023844_L2A>,\n",
       " Dataset <id=d36ae273-9eb4-5e09-99f2-f4497d1dfad9 product=sentinel_2_l2a location=https://earth-search.aws.element84.com/v1/collections/sentinel-2-l2a/items/S2A_49MHM_20200111_0_L2A>,\n",
       " Dataset <id=0f0fd858-9bc2-5801-ba55-a1dcb4e46d2b product=sentinel_2_l2a location=https://earth-search.aws.element84.com/v1/collections/sentinel-2-l1c/items/S2A_50MKS_20200111_0_L1C>,\n",
       " Dataset <id=007f7944-f5b2-523a-9d71-badf49944056 product=sentinel_2_l2a location=https://earth-search.aws.element84.com/v1/collections/sentinel-2-l2a/items/S2A_50MKS_20200111_1_L2A>,\n",
       " Dataset <id=7e9cfb04-84b9-50b8-ad73-1479ff2ab64a product=sentinel_2_l2a location=https://earth-search.aws.element84.com/v1/collections/sentinel-2-l2a/items/S2A_50MKT_20200111_1_L2A>,\n",
       " Dataset <id=0670646b-8543-598c-97a2-b0dd3ad5fb14 product=sentinel_2_l2a location=https://earth-search.aws.element84.com/v1/collections/sentinel-2-l2a/items/S2A_50MKS_20200108_0_L2A>,\n",
       " Dataset <id=115b82f8-2926-5d48-bd19-5098d4525888 product=sentinel_2_l2a location=https://earth-search.aws.element84.com/v1/collections/sentinel-1-grd/items/S1A_IW_GRDH_1SDV_20200106T104153_20200106T104222_030678_038430>,\n",
       " Dataset <id=d0e72039-ec40-5785-82f3-164e9888de3e product=sentinel_2_l2a location=https://earth-search.aws.element84.com/v1/collections/sentinel-2-c1-l2a/items/S2B_T50MKS_20200106T024843_L2A>,\n",
       " Dataset <id=fbcc7344-55a6-5dc1-b552-a8ba37e25c45 product=sentinel_2_l2a location=https://earth-search.aws.element84.com/v1/collections/sentinel-2-l2a/items/S2B_50MKT_20200113_1_L2A>,\n",
       " Dataset <id=17d469e1-e1e0-5df7-98f8-7cd37629d4b3 product=sentinel_2_l2a location=https://earth-search.aws.element84.com/v1/collections/sentinel-2-l1c/items/S2B_50MKT_20200113_0_L1C>,\n",
       " Dataset <id=f29e2b8e-28cb-5d90-9fe7-74f808ede686 product=sentinel_2_l2a location=https://earth-search.aws.element84.com/v1/collections/landsat-c2-l2/items/LE07_L2SP_118065_20200113_02_T1>,\n",
       " Dataset <id=21c94e26-d9f3-5a37-822c-c5cee3181093 product=sentinel_2_l2a location=https://earth-search.aws.element84.com/v1/collections/sentinel-2-l2a/items/S2A_49MHM_20200111_1_L2A>,\n",
       " Dataset <id=6f911f16-e640-525c-870f-3f0ffee9d2f3 product=sentinel_2_l2a location=https://earth-search.aws.element84.com/v1/collections/sentinel-2-c1-l2a/items/S2A_T49MHM_20200111T024730_L2A>,\n",
       " Dataset <id=87cf681e-492e-50ed-85f9-3f4bc886198f product=sentinel_2_l2a location=https://earth-search.aws.element84.com/v1/collections/sentinel-2-l2a/items/S2A_50MKS_20200111_0_L2A>,\n",
       " Dataset <id=b55c1bc7-27f0-5e03-bb9b-cfa8c35666b4 product=sentinel_2_l2a location=https://earth-search.aws.element84.com/v1/collections/sentinel-2-c1-l2a/items/S2A_T50MKS_20200111T024730_L2A>,\n",
       " Dataset <id=2976d604-0a98-510c-85a3-62e2c5db1be9 product=sentinel_2_l2a location=https://earth-search.aws.element84.com/v1/collections/sentinel-2-l2a/items/S2A_49MHN_20200111_1_L2A>,\n",
       " Dataset <id=bb8dcd51-32b5-5163-a7e2-2e1a9384e523 product=sentinel_2_l2a location=https://earth-search.aws.element84.com/v1/collections/sentinel-2-l1c/items/S2A_49MHN_20200111_0_L1C>,\n",
       " Dataset <id=d15ad3af-352b-5968-8736-b4511ecf8675 product=sentinel_2_l2a location=https://earth-search.aws.element84.com/v1/collections/sentinel-2-l2a/items/S2A_49MHN_20200111_0_L2A>,\n",
       " Dataset <id=400e5213-1910-569d-88b6-3d9e62073e46 product=sentinel_2_l2a location=https://earth-search.aws.element84.com/v1/collections/sentinel-2-l2a/items/S2A_50MKT_20200111_0_L2A>,\n",
       " Dataset <id=eeb09485-4eaa-5b87-8e15-150838a1a661 product=sentinel_2_l2a location=https://earth-search.aws.element84.com/v1/collections/sentinel-2-l1c/items/S2A_50MKT_20200111_0_L1C>,\n",
       " Dataset <id=478d13da-f030-566a-aa03-2031144711bd product=sentinel_2_l2a location=https://earth-search.aws.element84.com/v1/collections/sentinel-1-grd/items/S1A_IW_GRDH_1SDV_20200109T215309_20200109T215337_030729_0385EB>,\n",
       " Dataset <id=d5fd964a-f58e-55b5-bd23-cccaab254ed4 product=sentinel_2_l2a location=https://earth-search.aws.element84.com/v1/collections/sentinel-2-l2a/items/S2A_50MKS_20200108_1_L2A>,\n",
       " Dataset <id=88a0fb7c-75a5-5c2c-b4ef-207f1afe4a92 product=sentinel_2_l2a location=https://earth-search.aws.element84.com/v1/collections/sentinel-2-c1-l2a/items/S2A_T50MKS_20200108T023642_L2A>,\n",
       " Dataset <id=dc209df2-6936-565f-b053-4560df0c4339 product=sentinel_2_l2a location=https://earth-search.aws.element84.com/v1/collections/sentinel-2-l1c/items/S2A_50MKS_20200108_0_L1C>,\n",
       " Dataset <id=f320392e-458a-5cf6-8501-c8089e68e32e product=sentinel_2_l2a location=https://earth-search.aws.element84.com/v1/collections/sentinel-2-l2a/items/S2A_50MKT_20200108_1_L2A>,\n",
       " Dataset <id=296a090c-67f6-51c8-9f2a-739fb58b6f87 product=sentinel_2_l2a location=https://earth-search.aws.element84.com/v1/collections/sentinel-2-l2a/items/S2A_50MKT_20200108_0_L2A>,\n",
       " Dataset <id=f62fbd3c-cf24-5a69-b9e8-a7e269d364f5 product=sentinel_2_l2a location=https://earth-search.aws.element84.com/v1/collections/sentinel-2-l1c/items/S2A_50MKT_20200108_0_L1C>,\n",
       " Dataset <id=6d8a8eb0-6f60-5166-9d76-098b552d2bb4 product=sentinel_2_l2a location=https://earth-search.aws.element84.com/v1/collections/sentinel-2-c1-l2a/items/S2A_T50MKT_20200108T023642_L2A>,\n",
       " Dataset <id=8b34e6bb-ae3f-55a5-afa5-3b14629cadf4 product=sentinel_2_l2a location=https://earth-search.aws.element84.com/v1/collections/sentinel-1-grd/items/S1A_IW_GRDH_1SDV_20200106T104124_20200106T104153_030678_038430>,\n",
       " Dataset <id=300a2bc5-077f-5cab-a524-a6b600556bf2 product=sentinel_2_l2a location=https://earth-search.aws.element84.com/v1/collections/landsat-c2-l2/items/LC08_L2SP_116066_20200107_02_T1>,\n",
       " Dataset <id=08d9a2e0-6ceb-5c1c-8bc1-0b2a480890b2 product=sentinel_2_l2a location=https://earth-search.aws.element84.com/v1/collections/sentinel-2-l2a/items/S2B_50MKT_20200106_1_L2A>,\n",
       " Dataset <id=873321ff-424f-50b7-aaca-2626cba1e24d product=sentinel_2_l2a location=https://earth-search.aws.element84.com/v1/collections/sentinel-2-l2a/items/S2B_49MHN_20200106_1_L2A>,\n",
       " Dataset <id=8f9f08e5-07a1-515d-8e95-7016e9c69cdd product=sentinel_2_l2a location=https://earth-search.aws.element84.com/v1/collections/landsat-c2-l2/items/LE07_L2SP_117065_20200106_02_T1>,\n",
       " Dataset <id=7e441e3d-5c46-5158-99f3-92e9bc3d07d8 product=sentinel_2_l2a location=https://earth-search.aws.element84.com/v1/collections/sentinel-2-l2a/items/S2A_50MKS_20200101_1_L2A>,\n",
       " Dataset <id=d9b2935e-7564-5ffe-ba88-2372560ec0a7 product=sentinel_2_l2a location=https://earth-search.aws.element84.com/v1/collections/sentinel-2-l2a/items/S2A_49MHN_20200101_1_L2A>,\n",
       " Dataset <id=dc9de505-cc08-5532-a6fb-d2bac809252a product=sentinel_2_l2a location=https://earth-search.aws.element84.com/v1/collections/sentinel-2-l2a/items/S2A_50MKT_20200101_0_L2A>,\n",
       " Dataset <id=718101fb-b473-5b84-bd6a-36e4adb1ea0b product=sentinel_2_l2a location=https://earth-search.aws.element84.com/v1/collections/sentinel-2-l2a/items/S2B_49MHM_20200106_1_L2A>,\n",
       " Dataset <id=baefa774-703f-5663-a048-805a585ae6f3 product=sentinel_2_l2a location=https://earth-search.aws.element84.com/v1/collections/sentinel-2-l2a/items/S2B_49MHM_20200106_0_L2A>,\n",
       " Dataset <id=a38338c6-3a19-50eb-b88c-f7b037e044ac product=sentinel_2_l2a location=https://earth-search.aws.element84.com/v1/collections/sentinel-2-c1-l2a/items/S2B_T49MHM_20200106T024843_L2A>,\n",
       " Dataset <id=8d029ace-6e8a-54d2-9004-96888ebdd4df product=sentinel_2_l2a location=https://earth-search.aws.element84.com/v1/collections/sentinel-2-l1c/items/S2B_49MHM_20200106_0_L1C>,\n",
       " Dataset <id=d707b20a-6508-5c5d-8987-6d9eec163923 product=sentinel_2_l2a location=https://earth-search.aws.element84.com/v1/collections/sentinel-2-l2a/items/S2B_50MKS_20200106_0_L2A>,\n",
       " Dataset <id=85e2a302-7046-5f26-a3b3-7e4d4df93d98 product=sentinel_2_l2a location=https://earth-search.aws.element84.com/v1/collections/sentinel-2-l2a/items/S2B_49MHN_20200106_0_L2A>,\n",
       " Dataset <id=20e56f72-3b36-5541-9541-c4fdb5a046df product=sentinel_2_l2a location=https://earth-search.aws.element84.com/v1/collections/sentinel-2-l1c/items/S2B_50MKS_20200106_0_L1C>,\n",
       " Dataset <id=f86c4cb8-cb7c-5927-a10f-7c1d2b6000c9 product=sentinel_2_l2a location=https://earth-search.aws.element84.com/v1/collections/sentinel-2-l1c/items/S2B_49MHN_20200106_0_L1C>,\n",
       " Dataset <id=53bb6465-1bc2-5009-b013-c77304ec9f94 product=sentinel_2_l2a location=https://earth-search.aws.element84.com/v1/collections/sentinel-2-l2a/items/S2B_50MKS_20200106_1_L2A>,\n",
       " Dataset <id=576b4806-5933-5151-be9e-0b142852ac9f product=sentinel_2_l2a location=https://earth-search.aws.element84.com/v1/collections/sentinel-2-l2a/items/S2B_50MKT_20200106_0_L2A>,\n",
       " Dataset <id=aacc5808-fdd4-56ec-b2f3-4b55f3ce3fed product=sentinel_2_l2a location=https://earth-search.aws.element84.com/v1/collections/sentinel-2-c1-l2a/items/S2B_T50MKT_20200106T024843_L2A>,\n",
       " Dataset <id=8935caf4-b676-55c7-af17-c97cdcda2fa9 product=sentinel_2_l2a location=https://earth-search.aws.element84.com/v1/collections/sentinel-2-l1c/items/S2B_50MKT_20200106_0_L1C>,\n",
       " Dataset <id=7eb1fef8-5be9-52f6-81c2-e7b0e870d3f4 product=sentinel_2_l2a location=https://earth-search.aws.element84.com/v1/collections/landsat-c2-l2/items/LC08_L2SP_118065_20200105_02_T1>,\n",
       " Dataset <id=e4ad495a-3b0a-5a42-99ee-33aa91ab4f17 product=sentinel_2_l2a location=https://earth-search.aws.element84.com/v1/collections/landsat-c2-l2/items/LE07_L2SP_117066_20200106_02_T1>,\n",
       " Dataset <id=67e1bdcd-0179-5382-a668-ebd6cd111b90 product=sentinel_2_l2a location=https://earth-search.aws.element84.com/v1/collections/sentinel-2-l2a/items/S2B_50MKS_20200103_0_L2A>,\n",
       " Dataset <id=08811f8e-c32c-52b1-bb3e-fc7646e05124 product=sentinel_2_l2a location=https://earth-search.aws.element84.com/v1/collections/sentinel-2-c1-l2a/items/S2B_T50MKS_20200103T023907_L2A>,\n",
       " Dataset <id=a2672c23-6fd5-5312-a4fe-e59fa1ba9d22 product=sentinel_2_l2a location=https://earth-search.aws.element84.com/v1/collections/sentinel-2-l1c/items/S2B_50MKS_20200103_0_L1C>,\n",
       " Dataset <id=a7b4ca27-22ea-56f4-acd5-5dc046af19ce product=sentinel_2_l2a location=https://earth-search.aws.element84.com/v1/collections/sentinel-2-l2a/items/S2B_50MKS_20200103_1_L2A>,\n",
       " Dataset <id=70da95b7-aa66-5230-9dcf-ec586e4a9b1d product=sentinel_2_l2a location=https://earth-search.aws.element84.com/v1/collections/sentinel-2-l2a/items/S2B_50MKT_20200103_0_L2A>,\n",
       " Dataset <id=ca8e23a8-7c19-5fa9-b56a-59283a69140a product=sentinel_2_l2a location=https://earth-search.aws.element84.com/v1/collections/sentinel-2-c1-l2a/items/S2B_T50MKT_20200103T023907_L2A>,\n",
       " Dataset <id=4623dda7-b158-573a-b424-b2587506107a product=sentinel_2_l2a location=https://earth-search.aws.element84.com/v1/collections/sentinel-2-l1c/items/S2B_50MKT_20200103_1_L1C>,\n",
       " Dataset <id=7814f767-26b7-571c-9fe5-f982d46745df product=sentinel_2_l2a location=https://earth-search.aws.element84.com/v1/collections/sentinel-2-l1c/items/S2B_50MKT_20200103_0_L1C>,\n",
       " Dataset <id=2981eca3-6e74-5f06-8491-9aa297f40b19 product=sentinel_2_l2a location=https://earth-search.aws.element84.com/v1/collections/sentinel-2-l2a/items/S2B_50MKT_20200103_1_L2A>,\n",
       " Dataset <id=58050535-e749-5b52-a4c3-9702cd5a40cd product=sentinel_2_l2a location=https://earth-search.aws.element84.com/v1/collections/sentinel-1-grd/items/S1A_IW_GRDH_1SDV_20200102T220109_20200102T220134_030627_038262>,\n",
       " Dataset <id=351a9e46-20a5-58b2-91c8-7320302f8a6e product=sentinel_2_l2a location=https://earth-search.aws.element84.com/v1/collections/sentinel-1-grd/items/S1A_IW_GRDH_1SDV_20200102T220044_20200102T220109_030627_038262>,\n",
       " Dataset <id=d2800846-1bec-549c-be5d-39d0155421ec product=sentinel_2_l2a location=https://earth-search.aws.element84.com/v1/collections/sentinel-2-c1-l2a/items/S2A_T50MKS_20200101T024527_L2A>,\n",
       " Dataset <id=52f06461-98b4-52dd-99c7-3bea1f5fb60e product=sentinel_2_l2a location=https://earth-search.aws.element84.com/v1/collections/sentinel-2-c1-l2a/items/S2A_T49MHN_20200101T024527_L2A>,\n",
       " Dataset <id=2a2bcb13-5aa4-5b4a-a4c8-a63782f9d439 product=sentinel_2_l2a location=https://earth-search.aws.element84.com/v1/collections/sentinel-2-l2a/items/S2A_49MHM_20200101_0_L2A>,\n",
       " Dataset <id=84140e66-0dbe-5a4c-b5c1-b94bb496bad8 product=sentinel_2_l2a location=https://earth-search.aws.element84.com/v1/collections/sentinel-2-l1c/items/S2A_49MHM_20200101_1_L1C>,\n",
       " Dataset <id=90a445c3-50c8-51fe-9326-4536acc6be77 product=sentinel_2_l2a location=https://earth-search.aws.element84.com/v1/collections/sentinel-2-l1c/items/S2A_50MKT_20200101_0_L1C>,\n",
       " Dataset <id=89c7a117-6f57-5d5a-9608-6c942b1c457c product=sentinel_2_l2a location=https://earth-search.aws.element84.com/v1/collections/sentinel-2-l1c/items/S2A_50MKT_20200101_1_L1C>,\n",
       " Dataset <id=6c9f52ea-fd5d-56be-be9e-24adbd890035 product=sentinel_2_l2a location=https://earth-search.aws.element84.com/v1/collections/sentinel-2-l2a/items/S2A_49MHM_20200101_1_L2A>,\n",
       " Dataset <id=46e758fa-8333-52ec-bae4-9240d09a0aee product=sentinel_2_l2a location=https://earth-search.aws.element84.com/v1/collections/sentinel-2-c1-l2a/items/S2A_T49MHM_20200101T024527_L2A>,\n",
       " Dataset <id=9f28fce8-b46d-5c2f-973d-f5f7f0c1988a product=sentinel_2_l2a location=https://earth-search.aws.element84.com/v1/collections/sentinel-2-l1c/items/S2A_50MKS_20200101_0_L1C>,\n",
       " Dataset <id=26147809-229b-547f-afbe-e295d2e35758 product=sentinel_2_l2a location=https://earth-search.aws.element84.com/v1/collections/sentinel-2-l2a/items/S2A_50MKS_20200101_0_L2A>,\n",
       " Dataset <id=27fdd6bf-050c-5833-b66c-3bf962680ebd product=sentinel_2_l2a location=https://earth-search.aws.element84.com/v1/collections/sentinel-2-l1c/items/S2A_50MKS_20200101_1_L1C>,\n",
       " Dataset <id=3a3a2bc3-c3e2-57d1-86bd-b8d93731514b product=sentinel_2_l2a location=https://earth-search.aws.element84.com/v1/collections/sentinel-2-l1c/items/S2A_49MHM_20200101_0_L1C>,\n",
       " Dataset <id=194f90cc-a209-5524-8b92-8df42451ebc8 product=sentinel_2_l2a location=https://earth-search.aws.element84.com/v1/collections/sentinel-2-l1c/items/S2A_49MHN_20200101_1_L1C>,\n",
       " Dataset <id=6176452b-f919-5132-9aeb-2f2aee8b051a product=sentinel_2_l2a location=https://earth-search.aws.element84.com/v1/collections/sentinel-2-c1-l2a/items/S2A_T50MKT_20200101T024527_L2A>,\n",
       " Dataset <id=19039e22-9aa3-5fcf-b1cc-eedba919b3c8 product=sentinel_2_l2a location=https://earth-search.aws.element84.com/v1/collections/sentinel-2-l2a/items/S2A_49MHN_20200101_0_L2A>,\n",
       " Dataset <id=d1a8d33b-82b9-5e94-bd0f-93f00e9b6bdf product=sentinel_2_l2a location=https://earth-search.aws.element84.com/v1/collections/sentinel-2-l2a/items/S2A_50MKT_20200101_1_L2A>,\n",
       " Dataset <id=5e66ab2b-227f-55cd-88aa-2864b653c996 product=sentinel_2_l2a location=https://earth-search.aws.element84.com/v1/collections/sentinel-2-l1c/items/S2A_49MHN_20200101_0_L1C>]"
      ]
     },
     "execution_count": 34,
     "metadata": {},
     "output_type": "execute_result"
    }
   ],
   "source": [
    "datasets_2 = dc.find_datasets(\n",
    "    product=\"sentinel_2_l2a\",\n",
    "    x=(114, 115),\n",
    "    y=(-7, -8),\n",
    "    time=(\"2020-01-01\", \"2020-01-31\")\n",
    ")\n",
    "datasets_2"
   ]
  },
  {
   "cell_type": "code",
   "execution_count": 20,
   "id": "a1a40bd8-10d0-4738-9151-1d3af6153944",
   "metadata": {},
   "outputs": [
    {
     "name": "stdout",
     "output_type": "stream",
     "text": [
      "Projected: False Geographic: False\n",
      "EPSG:9468\n"
     ]
    }
   ],
   "source": [
    "from pyproj import CRS\n",
    "crs = CRS(\"EPSG:9468\")\n",
    "print(\"Projected:\", crs.is_projected, \"Geographic:\", crs.is_geographic)\n",
    "print(crs)"
   ]
  },
  {
   "cell_type": "code",
   "execution_count": 35,
   "id": "86faf4ff-36f2-4c55-a30d-5ea039b72e38",
   "metadata": {},
   "outputs": [
    {
     "name": "stdout",
     "output_type": "stream",
     "text": [
      "{'blue': {'grid': 'g10',\n",
      "          'path': 's3://sentinel-s2-l2a/tiles/50/M/KS/2020/1/31/0/B02.jp2'},\n",
      " 'cirrus': {'grid': 'g60',\n",
      "            'path': 's3://sentinel-s2-l2a/tiles/50/M/KS/2020/1/31/0/B10.jp2'},\n",
      " 'coastal': {'grid': 'g60',\n",
      "             'path': 's3://sentinel-s2-l2a/tiles/50/M/KS/2020/1/31/0/B01.jp2'},\n",
      " 'green': {'grid': 'g10',\n",
      "           'path': 's3://sentinel-s2-l2a/tiles/50/M/KS/2020/1/31/0/B03.jp2'},\n",
      " 'nir': {'grid': 'g10',\n",
      "         'path': 's3://sentinel-s2-l2a/tiles/50/M/KS/2020/1/31/0/B08.jp2'},\n",
      " 'nir08': {'path': 's3://sentinel-s2-l2a/tiles/50/M/KS/2020/1/31/0/B8A.jp2'},\n",
      " 'nir09': {'grid': 'g60',\n",
      "           'path': 's3://sentinel-s2-l2a/tiles/50/M/KS/2020/1/31/0/B09.jp2'},\n",
      " 'red': {'grid': 'g10',\n",
      "         'path': 's3://sentinel-s2-l2a/tiles/50/M/KS/2020/1/31/0/B04.jp2'},\n",
      " 'rededge1': {'path': 's3://sentinel-s2-l2a/tiles/50/M/KS/2020/1/31/0/B05.jp2'},\n",
      " 'rededge2': {'path': 's3://sentinel-s2-l2a/tiles/50/M/KS/2020/1/31/0/B06.jp2'},\n",
      " 'rededge3': {'path': 's3://sentinel-s2-l2a/tiles/50/M/KS/2020/1/31/0/B07.jp2'},\n",
      " 'swir16': {'path': 's3://sentinel-s2-l2a/tiles/50/M/KS/2020/1/31/0/B11.jp2'},\n",
      " 'swir22': {'path': 's3://sentinel-s2-l2a/tiles/50/M/KS/2020/1/31/0/B12.jp2'},\n",
      " 'visual': {'grid': 'g10',\n",
      "            'path': 's3://sentinel-s2-l2a/tiles/50/M/KS/2020/1/31/0/TCI.jp2'}}\n"
     ]
    }
   ],
   "source": [
    "pprint(datasets_2[0].measurements)"
   ]
  },
  {
   "cell_type": "code",
   "execution_count": 36,
   "id": "a56d92f1-7ace-4c66-8be2-a2202bf07649",
   "metadata": {},
   "outputs": [
    {
     "name": "stdout",
     "output_type": "stream",
     "text": [
      "Available measurements:\n",
      "nir\n",
      "red\n",
      "blue\n",
      "green\n",
      "nir08\n",
      "nir09\n",
      "cirrus\n",
      "swir16\n",
      "swir22\n",
      "visual\n",
      "coastal\n",
      "rededge1\n",
      "rededge2\n",
      "rededge3\n"
     ]
    }
   ],
   "source": [
    "print(\"Available measurements:\")\n",
    "for meas in datasets_2[0].measurements.keys():\n",
    "    print(meas)"
   ]
  },
  {
   "cell_type": "code",
   "execution_count": 37,
   "id": "3c3b8992-903b-44de-8bff-a797da0fc47b",
   "metadata": {},
   "outputs": [
    {
     "name": "stderr",
     "output_type": "stream",
     "text": [
      "Error opening source dataset: s3://sentinel-s2-l2a/tiles/50/M/KT/2020/1/1/0/B04.jp2\n"
     ]
    },
    {
     "ename": "RasterioIOError",
     "evalue": "AWS_SECRET_ACCESS_KEY and AWS_NO_SIGN_REQUEST configuration options not defined, and /home/ubuntu/.aws/credentials not filled",
     "output_type": "error",
     "traceback": [
      "\u001b[0;31m---------------------------------------------------------------------------\u001b[0m",
      "\u001b[0;31mCPLE_AWSInvalidCredentialsError\u001b[0m           Traceback (most recent call last)",
      "File \u001b[0;32mrasterio/_base.pyx:310\u001b[0m, in \u001b[0;36mrasterio._base.DatasetBase.__init__\u001b[0;34m()\u001b[0m\n",
      "File \u001b[0;32mrasterio/_base.pyx:221\u001b[0m, in \u001b[0;36mrasterio._base.open_dataset\u001b[0;34m()\u001b[0m\n",
      "File \u001b[0;32mrasterio/_err.pyx:359\u001b[0m, in \u001b[0;36mrasterio._err.exc_wrap_pointer\u001b[0;34m()\u001b[0m\n",
      "\u001b[0;31mCPLE_AWSInvalidCredentialsError\u001b[0m: AWS_SECRET_ACCESS_KEY and AWS_NO_SIGN_REQUEST configuration options not defined, and /home/ubuntu/.aws/credentials not filled",
      "\nDuring handling of the above exception, another exception occurred:\n",
      "\u001b[0;31mRasterioIOError\u001b[0m                           Traceback (most recent call last)",
      "Cell \u001b[0;32mIn[37], line 1\u001b[0m\n\u001b[0;32m----> 1\u001b[0m ds2 \u001b[38;5;241m=\u001b[39m \u001b[43mdc\u001b[49m\u001b[38;5;241;43m.\u001b[39;49m\u001b[43mload\u001b[49m\u001b[43m(\u001b[49m\n\u001b[1;32m      2\u001b[0m \u001b[43m    \u001b[49m\u001b[43mdatasets\u001b[49m\u001b[38;5;241;43m=\u001b[39;49m\u001b[43mdatasets_2\u001b[49m\u001b[43m,\u001b[49m\n\u001b[1;32m      3\u001b[0m \u001b[43m    \u001b[49m\u001b[43mmeasurements\u001b[49m\u001b[38;5;241;43m=\u001b[39;49m\u001b[43m \u001b[49m\u001b[43m[\u001b[49m\u001b[38;5;124;43m\"\u001b[39;49m\u001b[38;5;124;43mred\u001b[39;49m\u001b[38;5;124;43m\"\u001b[39;49m\u001b[43m,\u001b[49m\u001b[43m \u001b[49m\u001b[38;5;124;43m\"\u001b[39;49m\u001b[38;5;124;43mblue\u001b[39;49m\u001b[38;5;124;43m\"\u001b[39;49m\u001b[43m,\u001b[49m\u001b[43m \u001b[49m\u001b[38;5;124;43m\"\u001b[39;49m\u001b[38;5;124;43mgreen\u001b[39;49m\u001b[38;5;124;43m\"\u001b[39;49m\u001b[43m]\u001b[49m\u001b[43m,\u001b[49m\n\u001b[1;32m      4\u001b[0m \u001b[43m    \u001b[49m\u001b[43moutput_crs\u001b[49m\u001b[38;5;241;43m=\u001b[39;49m\u001b[38;5;124;43m\"\u001b[39;49m\u001b[38;5;124;43mEPSG:4326\u001b[39;49m\u001b[38;5;124;43m\"\u001b[39;49m\u001b[43m,\u001b[49m\u001b[43m \u001b[49m\u001b[38;5;66;43;03m#because EPSG:9468 doesn't work here\u001b[39;49;00m\n\u001b[1;32m      5\u001b[0m \u001b[43m    \u001b[49m\u001b[43mresolution\u001b[49m\u001b[38;5;241;43m=\u001b[39;49m\u001b[43mresxy_\u001b[49m\u001b[43m(\u001b[49m\u001b[38;5;241;43m-\u001b[39;49m\u001b[38;5;241;43m10\u001b[39;49m\u001b[43m,\u001b[49m\u001b[43m \u001b[49m\u001b[38;5;241;43m10\u001b[39;49m\u001b[43m)\u001b[49m\u001b[43m,\u001b[49m\n\u001b[1;32m      6\u001b[0m \u001b[43m    \u001b[49m\u001b[43malign\u001b[49m\u001b[38;5;241;43m=\u001b[39;49m\u001b[43m(\u001b[49m\u001b[38;5;241;43m0\u001b[39;49m\u001b[43m,\u001b[49m\u001b[43m \u001b[49m\u001b[38;5;241;43m0\u001b[39;49m\u001b[43m)\u001b[49m\n\u001b[1;32m      7\u001b[0m \u001b[43m)\u001b[49m\n",
      "File \u001b[0;32m/home/venv/lib/python3.12/site-packages/datacube/api/core.py:560\u001b[0m, in \u001b[0;36mDatacube.load\u001b[0;34m(self, product, measurements, output_crs, resolution, resampling, align, skip_broken_datasets, dask_chunks, like, fuse_func, datasets, dataset_predicate, progress_cbk, patch_url, limit, driver, **query)\u001b[0m\n\u001b[1;32m    556\u001b[0m \u001b[38;5;28;01mif\u001b[39;00m skip_broken_datasets \u001b[38;5;129;01mis\u001b[39;00m \u001b[38;5;28;01mNone\u001b[39;00m:\n\u001b[1;32m    557\u001b[0m     \u001b[38;5;66;03m# default to value from env var, which defaults to False\u001b[39;00m\n\u001b[1;32m    558\u001b[0m     skip_broken_datasets \u001b[38;5;241m=\u001b[39m \u001b[38;5;28mself\u001b[39m\u001b[38;5;241m.\u001b[39mindex\u001b[38;5;241m.\u001b[39menvironment[\u001b[38;5;124m\"\u001b[39m\u001b[38;5;124mskip_broken_datasets\u001b[39m\u001b[38;5;124m\"\u001b[39m]\n\u001b[0;32m--> 560\u001b[0m result \u001b[38;5;241m=\u001b[39m \u001b[38;5;28;43mself\u001b[39;49m\u001b[38;5;241;43m.\u001b[39;49m\u001b[43mload_data\u001b[49m\u001b[43m(\u001b[49m\u001b[43mgrouped\u001b[49m\u001b[43m,\u001b[49m\u001b[43m \u001b[49m\u001b[43mgeobox\u001b[49m\u001b[43m,\u001b[49m\n\u001b[1;32m    561\u001b[0m \u001b[43m                        \u001b[49m\u001b[43mmeasurement_dicts\u001b[49m\u001b[43m,\u001b[49m\n\u001b[1;32m    562\u001b[0m \u001b[43m                        \u001b[49m\u001b[43mresampling\u001b[49m\u001b[38;5;241;43m=\u001b[39;49m\u001b[43mresampling\u001b[49m\u001b[43m,\u001b[49m\n\u001b[1;32m    563\u001b[0m \u001b[43m                        \u001b[49m\u001b[43mfuse_func\u001b[49m\u001b[38;5;241;43m=\u001b[39;49m\u001b[43mfuse_func\u001b[49m\u001b[43m,\u001b[49m\n\u001b[1;32m    564\u001b[0m \u001b[43m                        \u001b[49m\u001b[43mdask_chunks\u001b[49m\u001b[38;5;241;43m=\u001b[39;49m\u001b[43mdask_chunks\u001b[49m\u001b[43m,\u001b[49m\n\u001b[1;32m    565\u001b[0m \u001b[43m                        \u001b[49m\u001b[43mskip_broken_datasets\u001b[49m\u001b[38;5;241;43m=\u001b[39;49m\u001b[43mskip_broken_datasets\u001b[49m\u001b[43m,\u001b[49m\n\u001b[1;32m    566\u001b[0m \u001b[43m                        \u001b[49m\u001b[43mprogress_cbk\u001b[49m\u001b[38;5;241;43m=\u001b[39;49m\u001b[43mprogress_cbk\u001b[49m\u001b[43m,\u001b[49m\n\u001b[1;32m    567\u001b[0m \u001b[43m                        \u001b[49m\u001b[43mextra_dims\u001b[49m\u001b[38;5;241;43m=\u001b[39;49m\u001b[43mextra_dims\u001b[49m\u001b[43m,\u001b[49m\n\u001b[1;32m    568\u001b[0m \u001b[43m                        \u001b[49m\u001b[43mpatch_url\u001b[49m\u001b[38;5;241;43m=\u001b[39;49m\u001b[43mpatch_url\u001b[49m\u001b[43m,\u001b[49m\n\u001b[1;32m    569\u001b[0m \u001b[43m                        \u001b[49m\u001b[43mdriver\u001b[49m\u001b[38;5;241;43m=\u001b[39;49m\u001b[43mdriver\u001b[49m\u001b[43m)\u001b[49m\n\u001b[1;32m    571\u001b[0m \u001b[38;5;28;01mreturn\u001b[39;00m result\n",
      "File \u001b[0;32m/home/venv/lib/python3.12/site-packages/datacube/api/core.py:981\u001b[0m, in \u001b[0;36mDatacube.load_data\u001b[0;34m(sources, geobox, measurements, resampling, fuse_func, dask_chunks, skip_broken_datasets, progress_cbk, extra_dims, patch_url, driver, **extra)\u001b[0m\n\u001b[1;32m    976\u001b[0m     \u001b[38;5;28;01mreturn\u001b[39;00m Datacube\u001b[38;5;241m.\u001b[39m_dask_load(sources, geobox, measurements, dask_chunks,\n\u001b[1;32m    977\u001b[0m                                skip_broken_datasets\u001b[38;5;241m=\u001b[39mskip_broken_datasets,\n\u001b[1;32m    978\u001b[0m                                extra_dims\u001b[38;5;241m=\u001b[39mextra_dims,\n\u001b[1;32m    979\u001b[0m                                patch_url\u001b[38;5;241m=\u001b[39mpatch_url)\n\u001b[1;32m    980\u001b[0m \u001b[38;5;28;01melse\u001b[39;00m:\n\u001b[0;32m--> 981\u001b[0m     \u001b[38;5;28;01mreturn\u001b[39;00m \u001b[43mDatacube\u001b[49m\u001b[38;5;241;43m.\u001b[39;49m\u001b[43m_xr_load\u001b[49m\u001b[43m(\u001b[49m\u001b[43msources\u001b[49m\u001b[43m,\u001b[49m\u001b[43m \u001b[49m\u001b[43mgeobox\u001b[49m\u001b[43m,\u001b[49m\u001b[43m \u001b[49m\u001b[43mmeasurements\u001b[49m\u001b[43m,\u001b[49m\n\u001b[1;32m    982\u001b[0m \u001b[43m                             \u001b[49m\u001b[43mskip_broken_datasets\u001b[49m\u001b[38;5;241;43m=\u001b[39;49m\u001b[43mskip_broken_datasets\u001b[49m\u001b[43m,\u001b[49m\n\u001b[1;32m    983\u001b[0m \u001b[43m                             \u001b[49m\u001b[43mprogress_cbk\u001b[49m\u001b[38;5;241;43m=\u001b[39;49m\u001b[43mprogress_cbk\u001b[49m\u001b[43m,\u001b[49m\n\u001b[1;32m    984\u001b[0m \u001b[43m                             \u001b[49m\u001b[43mextra_dims\u001b[49m\u001b[38;5;241;43m=\u001b[39;49m\u001b[43mextra_dims\u001b[49m\u001b[43m,\u001b[49m\n\u001b[1;32m    985\u001b[0m \u001b[43m                             \u001b[49m\u001b[43mpatch_url\u001b[49m\u001b[38;5;241;43m=\u001b[39;49m\u001b[43mpatch_url\u001b[49m\u001b[43m)\u001b[49m\n",
      "File \u001b[0;32m/home/venv/lib/python3.12/site-packages/datacube/api/core.py:892\u001b[0m, in \u001b[0;36mDatacube._xr_load\u001b[0;34m(sources, geobox, measurements, skip_broken_datasets, progress_cbk, extra_dims, patch_url)\u001b[0m\n\u001b[1;32m    890\u001b[0m data_slice \u001b[38;5;241m=\u001b[39m data[m\u001b[38;5;241m.\u001b[39mname]\u001b[38;5;241m.\u001b[39mvalues[index]\n\u001b[1;32m    891\u001b[0m \u001b[38;5;28;01mtry\u001b[39;00m:\n\u001b[0;32m--> 892\u001b[0m     \u001b[43m_fuse_measurement\u001b[49m\u001b[43m(\u001b[49m\u001b[43mdata_slice\u001b[49m\u001b[43m,\u001b[49m\u001b[43m \u001b[49m\u001b[43mdatasets\u001b[49m\u001b[43m,\u001b[49m\u001b[43m \u001b[49m\u001b[43mgeobox\u001b[49m\u001b[43m,\u001b[49m\u001b[43m \u001b[49m\u001b[43mm\u001b[49m\u001b[43m,\u001b[49m\n\u001b[1;32m    893\u001b[0m \u001b[43m                      \u001b[49m\u001b[43mskip_broken_datasets\u001b[49m\u001b[38;5;241;43m=\u001b[39;49m\u001b[43mskip_broken_datasets\u001b[49m\u001b[43m,\u001b[49m\n\u001b[1;32m    894\u001b[0m \u001b[43m                      \u001b[49m\u001b[43mprogress_cbk\u001b[49m\u001b[38;5;241;43m=\u001b[39;49m\u001b[43m_cbk\u001b[49m\u001b[43m,\u001b[49m\u001b[43m \u001b[49m\u001b[43mextra_dim_index\u001b[49m\u001b[38;5;241;43m=\u001b[39;49m\u001b[43mextra_dim_index\u001b[49m\u001b[43m,\u001b[49m\n\u001b[1;32m    895\u001b[0m \u001b[43m                      \u001b[49m\u001b[43mpatch_url\u001b[49m\u001b[38;5;241;43m=\u001b[39;49m\u001b[43mpatch_url\u001b[49m\u001b[43m)\u001b[49m\n\u001b[1;32m    896\u001b[0m \u001b[38;5;28;01mexcept\u001b[39;00m (TerminateCurrentLoad, \u001b[38;5;167;01mKeyboardInterrupt\u001b[39;00m):\n\u001b[1;32m    897\u001b[0m     data\u001b[38;5;241m.\u001b[39mattrs[\u001b[38;5;124m'\u001b[39m\u001b[38;5;124mdc_partial_load\u001b[39m\u001b[38;5;124m'\u001b[39m] \u001b[38;5;241m=\u001b[39m \u001b[38;5;28;01mTrue\u001b[39;00m\n",
      "File \u001b[0;32m/home/venv/lib/python3.12/site-packages/datacube/api/core.py:1163\u001b[0m, in \u001b[0;36m_fuse_measurement\u001b[0;34m(dest, datasets, geobox, measurement, skip_broken_datasets, progress_cbk, extra_dim_index, patch_url)\u001b[0m\n\u001b[1;32m   1160\u001b[0m     \u001b[38;5;28;01melse\u001b[39;00m:\n\u001b[1;32m   1161\u001b[0m         srcs\u001b[38;5;241m.\u001b[39mappend(src)\n\u001b[0;32m-> 1163\u001b[0m \u001b[43mreproject_and_fuse\u001b[49m\u001b[43m(\u001b[49m\u001b[43msrcs\u001b[49m\u001b[43m,\u001b[49m\n\u001b[1;32m   1164\u001b[0m \u001b[43m                   \u001b[49m\u001b[43mdest\u001b[49m\u001b[43m,\u001b[49m\n\u001b[1;32m   1165\u001b[0m \u001b[43m                   \u001b[49m\u001b[43mgeobox\u001b[49m\u001b[43m,\u001b[49m\n\u001b[1;32m   1166\u001b[0m \u001b[43m                   \u001b[49m\u001b[43mdest\u001b[49m\u001b[38;5;241;43m.\u001b[39;49m\u001b[43mdtype\u001b[49m\u001b[38;5;241;43m.\u001b[39;49m\u001b[43mtype\u001b[49m\u001b[43m(\u001b[49m\u001b[43mmeasurement\u001b[49m\u001b[38;5;241;43m.\u001b[39;49m\u001b[43mnodata\u001b[49m\u001b[43m)\u001b[49m\u001b[43m,\u001b[49m\n\u001b[1;32m   1167\u001b[0m \u001b[43m                   \u001b[49m\u001b[43mresampling\u001b[49m\u001b[38;5;241;43m=\u001b[39;49m\u001b[43mmeasurement\u001b[49m\u001b[38;5;241;43m.\u001b[39;49m\u001b[43mget\u001b[49m\u001b[43m(\u001b[49m\u001b[38;5;124;43m'\u001b[39;49m\u001b[38;5;124;43mresampling_method\u001b[39;49m\u001b[38;5;124;43m'\u001b[39;49m\u001b[43m,\u001b[49m\u001b[43m \u001b[49m\u001b[38;5;124;43m'\u001b[39;49m\u001b[38;5;124;43mnearest\u001b[39;49m\u001b[38;5;124;43m'\u001b[39;49m\u001b[43m)\u001b[49m\u001b[43m,\u001b[49m\n\u001b[1;32m   1168\u001b[0m \u001b[43m                   \u001b[49m\u001b[43mfuse_func\u001b[49m\u001b[38;5;241;43m=\u001b[39;49m\u001b[43mmeasurement\u001b[49m\u001b[38;5;241;43m.\u001b[39;49m\u001b[43mget\u001b[49m\u001b[43m(\u001b[49m\u001b[38;5;124;43m'\u001b[39;49m\u001b[38;5;124;43mfuser\u001b[39;49m\u001b[38;5;124;43m'\u001b[39;49m\u001b[43m,\u001b[49m\u001b[43m \u001b[49m\u001b[38;5;28;43;01mNone\u001b[39;49;00m\u001b[43m)\u001b[49m\u001b[43m,\u001b[49m\n\u001b[1;32m   1169\u001b[0m \u001b[43m                   \u001b[49m\u001b[43mskip_broken_datasets\u001b[49m\u001b[38;5;241;43m=\u001b[39;49m\u001b[43mskip_broken_datasets\u001b[49m\u001b[43m,\u001b[49m\n\u001b[1;32m   1170\u001b[0m \u001b[43m                   \u001b[49m\u001b[43mprogress_cbk\u001b[49m\u001b[38;5;241;43m=\u001b[39;49m\u001b[43mprogress_cbk\u001b[49m\u001b[43m,\u001b[49m\n\u001b[1;32m   1171\u001b[0m \u001b[43m                   \u001b[49m\u001b[43mextra_dim_index\u001b[49m\u001b[38;5;241;43m=\u001b[39;49m\u001b[43mextra_dim_index\u001b[49m\u001b[43m)\u001b[49m\n",
      "File \u001b[0;32m/home/venv/lib/python3.12/site-packages/datacube/storage/_load.py:93\u001b[0m, in \u001b[0;36mreproject_and_fuse\u001b[0;34m(datasources, destination, dst_geobox, dst_nodata, resampling, fuse_func, skip_broken_datasets, progress_cbk, extra_dim_index)\u001b[0m\n\u001b[1;32m     91\u001b[0m \u001b[38;5;28;01mfor\u001b[39;00m n_so_far, source \u001b[38;5;129;01min\u001b[39;00m \u001b[38;5;28menumerate\u001b[39m(datasources, \u001b[38;5;241m1\u001b[39m):\n\u001b[1;32m     92\u001b[0m     \u001b[38;5;28;01mwith\u001b[39;00m ignore_exceptions_if(skip_broken_datasets):\n\u001b[0;32m---> 93\u001b[0m \u001b[43m        \u001b[49m\u001b[38;5;28;43;01mwith\u001b[39;49;00m\u001b[43m \u001b[49m\u001b[43msource\u001b[49m\u001b[38;5;241;43m.\u001b[39;49m\u001b[43mopen\u001b[49m\u001b[43m(\u001b[49m\u001b[43m)\u001b[49m\u001b[43m \u001b[49m\u001b[38;5;28;43;01mas\u001b[39;49;00m\u001b[43m \u001b[49m\u001b[43mrdr\u001b[49m\u001b[43m:\u001b[49m\n\u001b[1;32m     94\u001b[0m \u001b[43m            \u001b[49m\u001b[43mroi\u001b[49m\u001b[43m \u001b[49m\u001b[38;5;241;43m=\u001b[39;49m\u001b[43m \u001b[49m\u001b[43mread_time_slice\u001b[49m\u001b[43m(\u001b[49m\u001b[43mrdr\u001b[49m\u001b[43m,\u001b[49m\u001b[43m \u001b[49m\u001b[43mbuffer_\u001b[49m\u001b[43m,\u001b[49m\u001b[43m \u001b[49m\u001b[43mdst_geobox\u001b[49m\u001b[43m,\u001b[49m\u001b[43m \u001b[49m\u001b[43mresampling\u001b[49m\u001b[43m,\u001b[49m\u001b[43m \u001b[49m\u001b[43mdst_nodata\u001b[49m\u001b[43m,\u001b[49m\u001b[43m \u001b[49m\u001b[43mextra_dim_index\u001b[49m\u001b[43m)\u001b[49m\n\u001b[1;32m     96\u001b[0m         \u001b[38;5;28;01mif\u001b[39;00m \u001b[38;5;129;01mnot\u001b[39;00m roi_is_empty(roi):\n",
      "File \u001b[0;32m/usr/lib/python3.12/contextlib.py:137\u001b[0m, in \u001b[0;36m_GeneratorContextManager.__enter__\u001b[0;34m(self)\u001b[0m\n\u001b[1;32m    135\u001b[0m \u001b[38;5;28;01mdel\u001b[39;00m \u001b[38;5;28mself\u001b[39m\u001b[38;5;241m.\u001b[39margs, \u001b[38;5;28mself\u001b[39m\u001b[38;5;241m.\u001b[39mkwds, \u001b[38;5;28mself\u001b[39m\u001b[38;5;241m.\u001b[39mfunc\n\u001b[1;32m    136\u001b[0m \u001b[38;5;28;01mtry\u001b[39;00m:\n\u001b[0;32m--> 137\u001b[0m     \u001b[38;5;28;01mreturn\u001b[39;00m \u001b[38;5;28;43mnext\u001b[39;49m\u001b[43m(\u001b[49m\u001b[38;5;28;43mself\u001b[39;49m\u001b[38;5;241;43m.\u001b[39;49m\u001b[43mgen\u001b[49m\u001b[43m)\u001b[49m\n\u001b[1;32m    138\u001b[0m \u001b[38;5;28;01mexcept\u001b[39;00m \u001b[38;5;167;01mStopIteration\u001b[39;00m:\n\u001b[1;32m    139\u001b[0m     \u001b[38;5;28;01mraise\u001b[39;00m \u001b[38;5;167;01mRuntimeError\u001b[39;00m(\u001b[38;5;124m\"\u001b[39m\u001b[38;5;124mgenerator didn\u001b[39m\u001b[38;5;124m'\u001b[39m\u001b[38;5;124mt yield\u001b[39m\u001b[38;5;124m\"\u001b[39m) \u001b[38;5;28;01mfrom\u001b[39;00m\u001b[38;5;250m \u001b[39m\u001b[38;5;28;01mNone\u001b[39;00m\n",
      "File \u001b[0;32m/home/venv/lib/python3.12/site-packages/datacube/storage/_rio.py:146\u001b[0m, in \u001b[0;36mRasterioDataSource.open\u001b[0;34m(self)\u001b[0m\n\u001b[1;32m    144\u001b[0m \u001b[38;5;28;01mexcept\u001b[39;00m \u001b[38;5;167;01mException\u001b[39;00m \u001b[38;5;28;01mas\u001b[39;00m e:\n\u001b[1;32m    145\u001b[0m     _LOG\u001b[38;5;241m.\u001b[39merror(\u001b[38;5;124m\"\u001b[39m\u001b[38;5;124mError opening source dataset: \u001b[39m\u001b[38;5;132;01m%s\u001b[39;00m\u001b[38;5;124m\"\u001b[39m, \u001b[38;5;28mself\u001b[39m\u001b[38;5;241m.\u001b[39mfilename)\n\u001b[0;32m--> 146\u001b[0m     \u001b[38;5;28;01mraise\u001b[39;00m e\n\u001b[1;32m    147\u001b[0m \u001b[38;5;28;01mfinally\u001b[39;00m:\n\u001b[1;32m    148\u001b[0m     \u001b[38;5;28;01mif\u001b[39;00m locked:\n",
      "File \u001b[0;32m/home/venv/lib/python3.12/site-packages/datacube/storage/_rio.py:117\u001b[0m, in \u001b[0;36mRasterioDataSource.open\u001b[0;34m(self)\u001b[0m\n\u001b[1;32m    115\u001b[0m \u001b[38;5;28;01mtry\u001b[39;00m:\n\u001b[1;32m    116\u001b[0m     _LOG\u001b[38;5;241m.\u001b[39mdebug(\u001b[38;5;124m\"\u001b[39m\u001b[38;5;124mopening \u001b[39m\u001b[38;5;132;01m%s\u001b[39;00m\u001b[38;5;124m\"\u001b[39m, \u001b[38;5;28mself\u001b[39m\u001b[38;5;241m.\u001b[39mfilename)\n\u001b[0;32m--> 117\u001b[0m     \u001b[38;5;28;01mwith\u001b[39;00m \u001b[43mrasterio\u001b[49m\u001b[38;5;241;43m.\u001b[39;49m\u001b[43mopen\u001b[49m\u001b[43m(\u001b[49m\u001b[38;5;28;43mstr\u001b[39;49m\u001b[43m(\u001b[49m\u001b[38;5;28;43mself\u001b[39;49m\u001b[38;5;241;43m.\u001b[39;49m\u001b[43mfilename\u001b[49m\u001b[43m)\u001b[49m\u001b[43m,\u001b[49m\u001b[43m \u001b[49m\u001b[43msharing\u001b[49m\u001b[38;5;241;43m=\u001b[39;49m\u001b[38;5;28;43;01mFalse\u001b[39;49;00m\u001b[43m)\u001b[49m \u001b[38;5;28;01mas\u001b[39;00m src:\n\u001b[1;32m    118\u001b[0m         override \u001b[38;5;241m=\u001b[39m \u001b[38;5;28;01mFalse\u001b[39;00m\n\u001b[1;32m    120\u001b[0m         transform \u001b[38;5;241m=\u001b[39m src\u001b[38;5;241m.\u001b[39mtransform\n",
      "File \u001b[0;32m/home/venv/lib/python3.12/site-packages/rasterio/env.py:463\u001b[0m, in \u001b[0;36mensure_env_with_credentials.<locals>.wrapper\u001b[0;34m(*args, **kwds)\u001b[0m\n\u001b[1;32m    460\u001b[0m     session \u001b[38;5;241m=\u001b[39m DummySession()\n\u001b[1;32m    462\u001b[0m \u001b[38;5;28;01mwith\u001b[39;00m env_ctor(session\u001b[38;5;241m=\u001b[39msession):\n\u001b[0;32m--> 463\u001b[0m     \u001b[38;5;28;01mreturn\u001b[39;00m \u001b[43mf\u001b[49m\u001b[43m(\u001b[49m\u001b[38;5;241;43m*\u001b[39;49m\u001b[43margs\u001b[49m\u001b[43m,\u001b[49m\u001b[43m \u001b[49m\u001b[38;5;241;43m*\u001b[39;49m\u001b[38;5;241;43m*\u001b[39;49m\u001b[43mkwds\u001b[49m\u001b[43m)\u001b[49m\n",
      "File \u001b[0;32m/home/venv/lib/python3.12/site-packages/rasterio/__init__.py:356\u001b[0m, in \u001b[0;36mopen\u001b[0;34m(fp, mode, driver, width, height, count, crs, transform, dtype, nodata, sharing, opener, **kwargs)\u001b[0m\n\u001b[1;32m    353\u001b[0m     path \u001b[38;5;241m=\u001b[39m _parse_path(raw_dataset_path)\n\u001b[1;32m    355\u001b[0m \u001b[38;5;28;01mif\u001b[39;00m mode \u001b[38;5;241m==\u001b[39m \u001b[38;5;124m\"\u001b[39m\u001b[38;5;124mr\u001b[39m\u001b[38;5;124m\"\u001b[39m:\n\u001b[0;32m--> 356\u001b[0m     dataset \u001b[38;5;241m=\u001b[39m \u001b[43mDatasetReader\u001b[49m\u001b[43m(\u001b[49m\u001b[43mpath\u001b[49m\u001b[43m,\u001b[49m\u001b[43m \u001b[49m\u001b[43mdriver\u001b[49m\u001b[38;5;241;43m=\u001b[39;49m\u001b[43mdriver\u001b[49m\u001b[43m,\u001b[49m\u001b[43m \u001b[49m\u001b[43msharing\u001b[49m\u001b[38;5;241;43m=\u001b[39;49m\u001b[43msharing\u001b[49m\u001b[43m,\u001b[49m\u001b[43m \u001b[49m\u001b[38;5;241;43m*\u001b[39;49m\u001b[38;5;241;43m*\u001b[39;49m\u001b[43mkwargs\u001b[49m\u001b[43m)\u001b[49m\n\u001b[1;32m    357\u001b[0m \u001b[38;5;28;01melif\u001b[39;00m mode \u001b[38;5;241m==\u001b[39m \u001b[38;5;124m\"\u001b[39m\u001b[38;5;124mr+\u001b[39m\u001b[38;5;124m\"\u001b[39m:\n\u001b[1;32m    358\u001b[0m     dataset \u001b[38;5;241m=\u001b[39m get_writer_for_path(path, driver\u001b[38;5;241m=\u001b[39mdriver)(\n\u001b[1;32m    359\u001b[0m         path, mode, driver\u001b[38;5;241m=\u001b[39mdriver, sharing\u001b[38;5;241m=\u001b[39msharing, \u001b[38;5;241m*\u001b[39m\u001b[38;5;241m*\u001b[39mkwargs\n\u001b[1;32m    360\u001b[0m     )\n",
      "File \u001b[0;32mrasterio/_base.pyx:312\u001b[0m, in \u001b[0;36mrasterio._base.DatasetBase.__init__\u001b[0;34m()\u001b[0m\n",
      "\u001b[0;31mRasterioIOError\u001b[0m: AWS_SECRET_ACCESS_KEY and AWS_NO_SIGN_REQUEST configuration options not defined, and /home/ubuntu/.aws/credentials not filled"
     ]
    }
   ],
   "source": [
    "ds2 = dc.load(\n",
    "    datasets=datasets_2,\n",
    "    measurements= [\"red\", \"blue\", \"green\"],\n",
    "    output_crs=\"EPSG:4326\", #because EPSG:9468 doesn't work here\n",
    "    resolution=resxy_(-10, 10),\n",
    "    align=(0, 0)\n",
    ")"
   ]
  },
  {
   "cell_type": "code",
   "execution_count": null,
   "id": "3c8917c5-c3de-4db1-ab5d-6b0f7b485bd1",
   "metadata": {},
   "outputs": [],
   "source": [
    "ds2"
   ]
  },
  {
   "cell_type": "markdown",
   "id": "e7a5825b-c385-471f-b6d9-b1a71702271c",
   "metadata": {},
   "source": [
    "We can see that `dc.load` has returned an `xarray.Dataset` containing data from our two input datasets. \n",
    "\n",
    "> This `xarray.Dataset` includes:  \n",
    "> **Dimensions**  \n",
    "> This header identifies the number of timesteps returned (time: 2) as well as the number of resulting pixels in the `x` and `y` directions.\n",
    "> \n",
    "> **Coordinates**  \n",
    "> - time identifies the time attributed to each returned timestep.\n",
    "> - x and y provide coordinates for each pixel within the returned data.  \n",
    "> - spatial_ref provides information about the spatial grid used to load the data\n",
    "> \n",
    ">**Data variables**  \n",
    "> These are the measurements available for the loaded product.\n",
    "> For every timestep (time) returned by the query, the measured value at each pixel (y, x) is returned as an array for each measurement.\n",
    "> Each data variable is itself an `xarray.DataArray` object.\n",
    "> \n",
    "> **Attributes**  \n",
    "> Other important metadata or attributes for the loaded data"
   ]
  },
  {
   "cell_type": "markdown",
   "id": "2e57922a-e81d-4f83-a1b1-96138c4e952e",
   "metadata": {},
   "source": [
    "We can also inspect our loaded data by plotting it:"
   ]
  },
  {
   "cell_type": "code",
   "execution_count": null,
   "id": "df08d575-4fb2-4f08-b514-8d250f32543a",
   "metadata": {},
   "outputs": [],
   "source": [
    "ds_sample = ds2.isel(time=0).isel(x=slice(0, None, 10), y=slice(0, None, 10))\n",
    "ds_sample[[\"red\", \"green\", \"blue\"]].to_array().plot.imshow(robust=True)"
   ]
  },
  {
   "cell_type": "code",
   "execution_count": null,
   "id": "74d5dbc7-196a-4933-a34e-586770270b55",
   "metadata": {
    "editable": true,
    "slideshow": {
     "slide_type": ""
    },
    "tags": []
   },
   "outputs": [],
   "source": []
  }
 ],
 "metadata": {
  "kernelspec": {
   "display_name": "Python 3 (ipykernel)",
   "language": "python",
   "name": "python3"
  },
  "language_info": {
   "codemirror_mode": {
    "name": "ipython",
    "version": 3
   },
   "file_extension": ".py",
   "mimetype": "text/x-python",
   "name": "python",
   "nbconvert_exporter": "python",
   "pygments_lexer": "ipython3",
   "version": "3.12.3"
  }
 },
 "nbformat": 4,
 "nbformat_minor": 5
}
