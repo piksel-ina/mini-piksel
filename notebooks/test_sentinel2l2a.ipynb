{
 "cells": [
  {
   "cell_type": "code",
   "execution_count": 1,
   "id": "505075bd-7673-4be1-8c17-1b0ddde62804",
   "metadata": {},
   "outputs": [
    {
     "ename": "ModuleNotFoundError",
     "evalue": "No module named 'matplotlib'",
     "output_type": "error",
     "traceback": [
      "\u001b[0;31m---------------------------------------------------------------------------\u001b[0m",
      "\u001b[0;31mModuleNotFoundError\u001b[0m                       Traceback (most recent call last)",
      "Cell \u001b[0;32mIn[1], line 2\u001b[0m\n\u001b[1;32m      1\u001b[0m \u001b[38;5;66;03m# Import required packages\u001b[39;00m\n\u001b[0;32m----> 2\u001b[0m \u001b[38;5;28;01mimport\u001b[39;00m\u001b[38;5;250m \u001b[39m\u001b[38;5;21;01mmatplotlib\u001b[39;00m\u001b[38;5;21;01m.\u001b[39;00m\u001b[38;5;21;01mpyplot\u001b[39;00m\u001b[38;5;250m \u001b[39m\u001b[38;5;28;01mas\u001b[39;00m\u001b[38;5;250m \u001b[39m\u001b[38;5;21;01mplt\u001b[39;00m\n\u001b[1;32m      3\u001b[0m \u001b[38;5;28;01mimport\u001b[39;00m\u001b[38;5;250m \u001b[39m\u001b[38;5;21;01mnumpy\u001b[39;00m\u001b[38;5;250m \u001b[39m\u001b[38;5;28;01mas\u001b[39;00m\u001b[38;5;250m \u001b[39m\u001b[38;5;21;01mnp\u001b[39;00m\n\u001b[1;32m      4\u001b[0m \u001b[38;5;28;01mfrom\u001b[39;00m\u001b[38;5;250m \u001b[39m\u001b[38;5;21;01mdatacube\u001b[39;00m\u001b[38;5;250m \u001b[39m\u001b[38;5;28;01mimport\u001b[39;00m Datacube\n",
      "\u001b[0;31mModuleNotFoundError\u001b[0m: No module named 'matplotlib'"
     ]
    }
   ],
   "source": [
    "# Import required packages\n",
    "import matplotlib.pyplot as plt\n",
    "import numpy as np\n",
    "from datacube import Datacube\n",
    "\n",
    "# Instantiate the Datacube\n",
    "dc = Datacube()"
   ]
  },
  {
   "cell_type": "code",
   "execution_count": 2,
   "id": "da134f3f-c32f-40dd-8d47-e46ee883459f",
   "metadata": {},
   "outputs": [],
   "source": [
    "# Define a GeoJSON polygon for the area of interest (example: approximate bounding box for Bali)\n",
    "# Note: Coordinates are in (lon, lat) format.\n",
    "bali_polygon = {\n",
    "    \"type\": \"Polygon\",\n",
    "    \"coordinates\": [[\n",
    "        [114.0, -9.0],\n",
    "        [116.0, -9.0],\n",
    "        [116.0, -7.0],\n",
    "        [114.0, -7.0],\n",
    "        [114.0, -9.0]\n",
    "    ]]\n",
    "}\n",
    "\n",
    "# Define the query parameters for Sentinel-2 L2A data\n",
    "query = {\n",
    "    'time': ('2020-01-01', '2020-03-31'),\n",
    "    'geopolygon': bali_polygon,\n",
    "    'product': 's2_l2a'\n",
    "}\n"
   ]
  },
  {
   "cell_type": "code",
   "execution_count": 3,
   "id": "14fe8015-c67a-49e1-be15-11357bc89a0c",
   "metadata": {},
   "outputs": [
    {
     "ename": "NameError",
     "evalue": "name 'dc' is not defined",
     "output_type": "error",
     "traceback": [
      "\u001b[0;31m---------------------------------------------------------------------------\u001b[0m",
      "\u001b[0;31mNameError\u001b[0m                                 Traceback (most recent call last)",
      "Cell \u001b[0;32mIn[3], line 4\u001b[0m\n\u001b[1;32m      1\u001b[0m \u001b[38;5;66;03m# Load data from the Data Cube.\u001b[39;00m\n\u001b[1;32m      2\u001b[0m \u001b[38;5;66;03m# We request the 'red' and 'nir' measurements.\u001b[39;00m\n\u001b[1;32m      3\u001b[0m \u001b[38;5;66;03m# (Make sure these measurement names match your product definition.)\u001b[39;00m\n\u001b[0;32m----> 4\u001b[0m data \u001b[38;5;241m=\u001b[39m \u001b[43mdc\u001b[49m\u001b[38;5;241m.\u001b[39mload(product\u001b[38;5;241m=\u001b[39m\u001b[38;5;124m'\u001b[39m\u001b[38;5;124ms2_l2a\u001b[39m\u001b[38;5;124m'\u001b[39m, \u001b[38;5;241m*\u001b[39m\u001b[38;5;241m*\u001b[39mquery, measurements\u001b[38;5;241m=\u001b[39m[\u001b[38;5;124m'\u001b[39m\u001b[38;5;124mred\u001b[39m\u001b[38;5;124m'\u001b[39m, \u001b[38;5;124m'\u001b[39m\u001b[38;5;124mnir\u001b[39m\u001b[38;5;124m'\u001b[39m])\n",
      "\u001b[0;31mNameError\u001b[0m: name 'dc' is not defined"
     ]
    }
   ],
   "source": [
    "# Load data from the Data Cube.\n",
    "# We request the 'red' and 'nir' measurements.\n",
    "# (Make sure these measurement names match your product definition.)\n",
    "data = dc.load(product='s2_l2a', **query, measurements=['red', 'nir'])"
   ]
  },
  {
   "cell_type": "code",
   "execution_count": 4,
   "id": "28627d9f-e51a-4ed8-b680-ea81f8036a41",
   "metadata": {},
   "outputs": [
    {
     "ename": "NameError",
     "evalue": "name 'data' is not defined",
     "output_type": "error",
     "traceback": [
      "\u001b[0;31m---------------------------------------------------------------------------\u001b[0m",
      "\u001b[0;31mNameError\u001b[0m                                 Traceback (most recent call last)",
      "Cell \u001b[0;32mIn[4], line 2\u001b[0m\n\u001b[1;32m      1\u001b[0m \u001b[38;5;66;03m# Check if data is loaded\u001b[39;00m\n\u001b[0;32m----> 2\u001b[0m \u001b[38;5;28;01mif\u001b[39;00m \u001b[43mdata\u001b[49m \u001b[38;5;129;01mis\u001b[39;00m \u001b[38;5;28;01mNone\u001b[39;00m \u001b[38;5;129;01mor\u001b[39;00m \u001b[38;5;129;01mnot\u001b[39;00m data:\n\u001b[1;32m      3\u001b[0m     \u001b[38;5;28mprint\u001b[39m(\u001b[38;5;124m\"\u001b[39m\u001b[38;5;124mNo data loaded. Check your query parameters and product name!\u001b[39m\u001b[38;5;124m\"\u001b[39m)\n\u001b[1;32m      4\u001b[0m \u001b[38;5;28;01melse\u001b[39;00m:\n\u001b[1;32m      5\u001b[0m     \u001b[38;5;66;03m# Extract the red and nir bands as numpy arrays.\u001b[39;00m\n\u001b[1;32m      6\u001b[0m     \u001b[38;5;66;03m# The data array has dimensions: time, y, x.\u001b[39;00m\n",
      "\u001b[0;31mNameError\u001b[0m: name 'data' is not defined"
     ]
    }
   ],
   "source": [
    "# Check if data is loaded\n",
    "if data is None or not data:\n",
    "    print(\"No data loaded. Check your query parameters and product name!\")\n",
    "else:\n",
    "    # Extract the red and nir bands as numpy arrays.\n",
    "    # The data array has dimensions: time, y, x.\n",
    "    red = data.red.values\n",
    "    nir = data.nir.values\n",
    "\n",
    "    # Compute NDVI: (nir - red) / (nir + red)\n",
    "    # Use numpy where to avoid division by zero\n",
    "    ndvi = np.where((nir + red) == 0, 0, (nir - red) / (nir + red))\n",
    "\n",
    "    # For simplicity, let's plot the NDVI of the first time slice.\n",
    "    plt.figure(figsize=(10, 10))\n",
    "    plt.imshow(ndvi[0, :, :], cmap='RdYlGn', vmin=-1, vmax=1)\n",
    "    plt.colorbar(label='NDVI')\n",
    "    plt.title('NDVI (Sentinel-2 L2A) for Bali (2020-01-01 to 2020-03-31)')\n",
    "    plt.show()"
   ]
  },
  {
   "cell_type": "code",
   "execution_count": null,
   "id": "e85cc81a-8a80-47aa-951a-3ccff6a01beb",
   "metadata": {},
   "outputs": [],
   "source": []
  }
 ],
 "metadata": {
  "kernelspec": {
   "display_name": "Python 3 (ipykernel)",
   "language": "python",
   "name": "python3"
  },
  "language_info": {
   "codemirror_mode": {
    "name": "ipython",
    "version": 3
   },
   "file_extension": ".py",
   "mimetype": "text/x-python",
   "name": "python",
   "nbconvert_exporter": "python",
   "pygments_lexer": "ipython3",
   "version": "3.12.3"
  }
 },
 "nbformat": 4,
 "nbformat_minor": 5
}
